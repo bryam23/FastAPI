{
 "cells": [
  {
   "cell_type": "code",
   "execution_count": 79,
   "metadata": {},
   "outputs": [],
   "source": [
    "# importamos librerias que vamos a necesitar\n",
    "import pandas as pd \n",
    "import json\n",
    "import re"
   ]
  },
  {
   "cell_type": "markdown",
   "metadata": {},
   "source": [
    "Se descomprimen cada uno de los archivos previo a importarlos con pandas, quedamos a disposicion de su archivo json con el cual estaremos realizando el proceso de ETL"
   ]
  },
  {
   "cell_type": "code",
   "execution_count": 80,
   "metadata": {},
   "outputs": [
    {
     "data": {
      "text/html": [
       "<div>\n",
       "<style scoped>\n",
       "    .dataframe tbody tr th:only-of-type {\n",
       "        vertical-align: middle;\n",
       "    }\n",
       "\n",
       "    .dataframe tbody tr th {\n",
       "        vertical-align: top;\n",
       "    }\n",
       "\n",
       "    .dataframe thead th {\n",
       "        text-align: right;\n",
       "    }\n",
       "</style>\n",
       "<table border=\"1\" class=\"dataframe\">\n",
       "  <thead>\n",
       "    <tr style=\"text-align: right;\">\n",
       "      <th></th>\n",
       "      <th>publisher</th>\n",
       "      <th>genres</th>\n",
       "      <th>app_name</th>\n",
       "      <th>title</th>\n",
       "      <th>url</th>\n",
       "      <th>release_date</th>\n",
       "      <th>tags</th>\n",
       "      <th>reviews_url</th>\n",
       "      <th>specs</th>\n",
       "      <th>price</th>\n",
       "      <th>early_access</th>\n",
       "      <th>id</th>\n",
       "      <th>developer</th>\n",
       "    </tr>\n",
       "  </thead>\n",
       "  <tbody>\n",
       "    <tr>\n",
       "      <th>0</th>\n",
       "      <td>NaN</td>\n",
       "      <td>NaN</td>\n",
       "      <td>NaN</td>\n",
       "      <td>NaN</td>\n",
       "      <td>NaN</td>\n",
       "      <td>NaN</td>\n",
       "      <td>NaN</td>\n",
       "      <td>NaN</td>\n",
       "      <td>NaN</td>\n",
       "      <td>NaN</td>\n",
       "      <td>NaN</td>\n",
       "      <td>NaN</td>\n",
       "      <td>NaN</td>\n",
       "    </tr>\n",
       "    <tr>\n",
       "      <th>1</th>\n",
       "      <td>NaN</td>\n",
       "      <td>NaN</td>\n",
       "      <td>NaN</td>\n",
       "      <td>NaN</td>\n",
       "      <td>NaN</td>\n",
       "      <td>NaN</td>\n",
       "      <td>NaN</td>\n",
       "      <td>NaN</td>\n",
       "      <td>NaN</td>\n",
       "      <td>NaN</td>\n",
       "      <td>NaN</td>\n",
       "      <td>NaN</td>\n",
       "      <td>NaN</td>\n",
       "    </tr>\n",
       "    <tr>\n",
       "      <th>2</th>\n",
       "      <td>NaN</td>\n",
       "      <td>NaN</td>\n",
       "      <td>NaN</td>\n",
       "      <td>NaN</td>\n",
       "      <td>NaN</td>\n",
       "      <td>NaN</td>\n",
       "      <td>NaN</td>\n",
       "      <td>NaN</td>\n",
       "      <td>NaN</td>\n",
       "      <td>NaN</td>\n",
       "      <td>NaN</td>\n",
       "      <td>NaN</td>\n",
       "      <td>NaN</td>\n",
       "    </tr>\n",
       "    <tr>\n",
       "      <th>3</th>\n",
       "      <td>NaN</td>\n",
       "      <td>NaN</td>\n",
       "      <td>NaN</td>\n",
       "      <td>NaN</td>\n",
       "      <td>NaN</td>\n",
       "      <td>NaN</td>\n",
       "      <td>NaN</td>\n",
       "      <td>NaN</td>\n",
       "      <td>NaN</td>\n",
       "      <td>NaN</td>\n",
       "      <td>NaN</td>\n",
       "      <td>NaN</td>\n",
       "      <td>NaN</td>\n",
       "    </tr>\n",
       "    <tr>\n",
       "      <th>4</th>\n",
       "      <td>NaN</td>\n",
       "      <td>NaN</td>\n",
       "      <td>NaN</td>\n",
       "      <td>NaN</td>\n",
       "      <td>NaN</td>\n",
       "      <td>NaN</td>\n",
       "      <td>NaN</td>\n",
       "      <td>NaN</td>\n",
       "      <td>NaN</td>\n",
       "      <td>NaN</td>\n",
       "      <td>NaN</td>\n",
       "      <td>NaN</td>\n",
       "      <td>NaN</td>\n",
       "    </tr>\n",
       "    <tr>\n",
       "      <th>...</th>\n",
       "      <td>...</td>\n",
       "      <td>...</td>\n",
       "      <td>...</td>\n",
       "      <td>...</td>\n",
       "      <td>...</td>\n",
       "      <td>...</td>\n",
       "      <td>...</td>\n",
       "      <td>...</td>\n",
       "      <td>...</td>\n",
       "      <td>...</td>\n",
       "      <td>...</td>\n",
       "      <td>...</td>\n",
       "      <td>...</td>\n",
       "    </tr>\n",
       "    <tr>\n",
       "      <th>120440</th>\n",
       "      <td>Ghost_RUS Games</td>\n",
       "      <td>[Casual, Indie, Simulation, Strategy]</td>\n",
       "      <td>Colony On Mars</td>\n",
       "      <td>Colony On Mars</td>\n",
       "      <td>http://store.steampowered.com/app/773640/Colon...</td>\n",
       "      <td>2018-01-04</td>\n",
       "      <td>[Strategy, Indie, Casual, Simulation]</td>\n",
       "      <td>http://steamcommunity.com/app/773640/reviews/?...</td>\n",
       "      <td>[Single-player, Steam Achievements]</td>\n",
       "      <td>1.99</td>\n",
       "      <td>False</td>\n",
       "      <td>773640</td>\n",
       "      <td>Nikita \"Ghost_RUS\"</td>\n",
       "    </tr>\n",
       "    <tr>\n",
       "      <th>120441</th>\n",
       "      <td>Sacada</td>\n",
       "      <td>[Casual, Indie, Strategy]</td>\n",
       "      <td>LOGistICAL: South Africa</td>\n",
       "      <td>LOGistICAL: South Africa</td>\n",
       "      <td>http://store.steampowered.com/app/733530/LOGis...</td>\n",
       "      <td>2018-01-04</td>\n",
       "      <td>[Strategy, Indie, Casual]</td>\n",
       "      <td>http://steamcommunity.com/app/733530/reviews/?...</td>\n",
       "      <td>[Single-player, Steam Achievements, Steam Clou...</td>\n",
       "      <td>4.99</td>\n",
       "      <td>False</td>\n",
       "      <td>733530</td>\n",
       "      <td>Sacada</td>\n",
       "    </tr>\n",
       "    <tr>\n",
       "      <th>120442</th>\n",
       "      <td>Laush Studio</td>\n",
       "      <td>[Indie, Racing, Simulation]</td>\n",
       "      <td>Russian Roads</td>\n",
       "      <td>Russian Roads</td>\n",
       "      <td>http://store.steampowered.com/app/610660/Russi...</td>\n",
       "      <td>2018-01-04</td>\n",
       "      <td>[Indie, Simulation, Racing]</td>\n",
       "      <td>http://steamcommunity.com/app/610660/reviews/?...</td>\n",
       "      <td>[Single-player, Steam Achievements, Steam Trad...</td>\n",
       "      <td>1.99</td>\n",
       "      <td>False</td>\n",
       "      <td>610660</td>\n",
       "      <td>Laush Dmitriy Sergeevich</td>\n",
       "    </tr>\n",
       "    <tr>\n",
       "      <th>120443</th>\n",
       "      <td>SIXNAILS</td>\n",
       "      <td>[Casual, Indie]</td>\n",
       "      <td>EXIT 2 - Directions</td>\n",
       "      <td>EXIT 2 - Directions</td>\n",
       "      <td>http://store.steampowered.com/app/658870/EXIT_...</td>\n",
       "      <td>2017-09-02</td>\n",
       "      <td>[Indie, Casual, Puzzle, Singleplayer, Atmosphe...</td>\n",
       "      <td>http://steamcommunity.com/app/658870/reviews/?...</td>\n",
       "      <td>[Single-player, Steam Achievements, Steam Cloud]</td>\n",
       "      <td>4.99</td>\n",
       "      <td>False</td>\n",
       "      <td>658870</td>\n",
       "      <td>xropi,stev3ns</td>\n",
       "    </tr>\n",
       "    <tr>\n",
       "      <th>120444</th>\n",
       "      <td>NaN</td>\n",
       "      <td>NaN</td>\n",
       "      <td>Maze Run VR</td>\n",
       "      <td>NaN</td>\n",
       "      <td>http://store.steampowered.com/app/681550/Maze_...</td>\n",
       "      <td>NaN</td>\n",
       "      <td>[Early Access, Adventure, Indie, Action, Simul...</td>\n",
       "      <td>http://steamcommunity.com/app/681550/reviews/?...</td>\n",
       "      <td>[Single-player, Stats, Steam Leaderboards, HTC...</td>\n",
       "      <td>4.99</td>\n",
       "      <td>True</td>\n",
       "      <td>681550</td>\n",
       "      <td>NaN</td>\n",
       "    </tr>\n",
       "  </tbody>\n",
       "</table>\n",
       "<p>120445 rows × 13 columns</p>\n",
       "</div>"
      ],
      "text/plain": [
       "              publisher                                 genres  \\\n",
       "0                   NaN                                    NaN   \n",
       "1                   NaN                                    NaN   \n",
       "2                   NaN                                    NaN   \n",
       "3                   NaN                                    NaN   \n",
       "4                   NaN                                    NaN   \n",
       "...                 ...                                    ...   \n",
       "120440  Ghost_RUS Games  [Casual, Indie, Simulation, Strategy]   \n",
       "120441           Sacada              [Casual, Indie, Strategy]   \n",
       "120442     Laush Studio            [Indie, Racing, Simulation]   \n",
       "120443         SIXNAILS                        [Casual, Indie]   \n",
       "120444              NaN                                    NaN   \n",
       "\n",
       "                        app_name                     title  \\\n",
       "0                            NaN                       NaN   \n",
       "1                            NaN                       NaN   \n",
       "2                            NaN                       NaN   \n",
       "3                            NaN                       NaN   \n",
       "4                            NaN                       NaN   \n",
       "...                          ...                       ...   \n",
       "120440            Colony On Mars            Colony On Mars   \n",
       "120441  LOGistICAL: South Africa  LOGistICAL: South Africa   \n",
       "120442             Russian Roads             Russian Roads   \n",
       "120443       EXIT 2 - Directions       EXIT 2 - Directions   \n",
       "120444               Maze Run VR                       NaN   \n",
       "\n",
       "                                                      url release_date  \\\n",
       "0                                                     NaN          NaN   \n",
       "1                                                     NaN          NaN   \n",
       "2                                                     NaN          NaN   \n",
       "3                                                     NaN          NaN   \n",
       "4                                                     NaN          NaN   \n",
       "...                                                   ...          ...   \n",
       "120440  http://store.steampowered.com/app/773640/Colon...   2018-01-04   \n",
       "120441  http://store.steampowered.com/app/733530/LOGis...   2018-01-04   \n",
       "120442  http://store.steampowered.com/app/610660/Russi...   2018-01-04   \n",
       "120443  http://store.steampowered.com/app/658870/EXIT_...   2017-09-02   \n",
       "120444  http://store.steampowered.com/app/681550/Maze_...          NaN   \n",
       "\n",
       "                                                     tags  \\\n",
       "0                                                     NaN   \n",
       "1                                                     NaN   \n",
       "2                                                     NaN   \n",
       "3                                                     NaN   \n",
       "4                                                     NaN   \n",
       "...                                                   ...   \n",
       "120440              [Strategy, Indie, Casual, Simulation]   \n",
       "120441                          [Strategy, Indie, Casual]   \n",
       "120442                        [Indie, Simulation, Racing]   \n",
       "120443  [Indie, Casual, Puzzle, Singleplayer, Atmosphe...   \n",
       "120444  [Early Access, Adventure, Indie, Action, Simul...   \n",
       "\n",
       "                                              reviews_url  \\\n",
       "0                                                     NaN   \n",
       "1                                                     NaN   \n",
       "2                                                     NaN   \n",
       "3                                                     NaN   \n",
       "4                                                     NaN   \n",
       "...                                                   ...   \n",
       "120440  http://steamcommunity.com/app/773640/reviews/?...   \n",
       "120441  http://steamcommunity.com/app/733530/reviews/?...   \n",
       "120442  http://steamcommunity.com/app/610660/reviews/?...   \n",
       "120443  http://steamcommunity.com/app/658870/reviews/?...   \n",
       "120444  http://steamcommunity.com/app/681550/reviews/?...   \n",
       "\n",
       "                                                    specs price early_access  \\\n",
       "0                                                     NaN   NaN          NaN   \n",
       "1                                                     NaN   NaN          NaN   \n",
       "2                                                     NaN   NaN          NaN   \n",
       "3                                                     NaN   NaN          NaN   \n",
       "4                                                     NaN   NaN          NaN   \n",
       "...                                                   ...   ...          ...   \n",
       "120440                [Single-player, Steam Achievements]  1.99        False   \n",
       "120441  [Single-player, Steam Achievements, Steam Clou...  4.99        False   \n",
       "120442  [Single-player, Steam Achievements, Steam Trad...  1.99        False   \n",
       "120443   [Single-player, Steam Achievements, Steam Cloud]  4.99        False   \n",
       "120444  [Single-player, Stats, Steam Leaderboards, HTC...  4.99         True   \n",
       "\n",
       "            id                 developer  \n",
       "0          NaN                       NaN  \n",
       "1          NaN                       NaN  \n",
       "2          NaN                       NaN  \n",
       "3          NaN                       NaN  \n",
       "4          NaN                       NaN  \n",
       "...        ...                       ...  \n",
       "120440  773640        Nikita \"Ghost_RUS\"  \n",
       "120441  733530                    Sacada  \n",
       "120442  610660  Laush Dmitriy Sergeevich  \n",
       "120443  658870             xropi,stev3ns  \n",
       "120444  681550                       NaN  \n",
       "\n",
       "[120445 rows x 13 columns]"
      ]
     },
     "execution_count": 80,
     "metadata": {},
     "output_type": "execute_result"
    }
   ],
   "source": [
    "# lista vacia donde ingresaremos los datos del archivo\n",
    "lista=[]\n",
    "# abrimos archivo json\n",
    "with open ('dataset_original/output_steam_games.json', 'r', encoding='utf-8') as archivo:\n",
    "    # creamos un bucle for para iterar e ingresar los datos dentro de la lista vacia\n",
    "    for iterador in archivo.readlines():\n",
    "        lista.append(json.loads(iterador))\n",
    "\n",
    "# guardamos en dataframe\n",
    "steam_games= pd.DataFrame(lista)\n",
    "# abrimos dataframe\n",
    "steam_games"
   ]
  },
  {
   "cell_type": "markdown",
   "metadata": {},
   "source": [
    "chequeo de valores nulos"
   ]
  },
  {
   "cell_type": "code",
   "execution_count": 81,
   "metadata": {},
   "outputs": [
    {
     "data": {
      "text/plain": [
       "publisher       96362\n",
       "genres          91593\n",
       "app_name        88312\n",
       "title           90360\n",
       "url             88310\n",
       "release_date    90377\n",
       "tags            88473\n",
       "reviews_url     88312\n",
       "specs           88980\n",
       "price           89687\n",
       "early_access    88310\n",
       "id              88312\n",
       "developer       91609\n",
       "dtype: int64"
      ]
     },
     "execution_count": 81,
     "metadata": {},
     "output_type": "execute_result"
    }
   ],
   "source": [
    "# verificamos valores nulos\n",
    "steam_games.isnull().sum()"
   ]
  },
  {
   "cell_type": "code",
   "execution_count": 82,
   "metadata": {},
   "outputs": [],
   "source": [
    "# eliminamos todas las filas donde todas sus columnas tengan valores nulos y reestablecemos los indices\n",
    "steam_games=steam_games.dropna(how='all').reset_index(drop=True)"
   ]
  },
  {
   "cell_type": "code",
   "execution_count": 83,
   "metadata": {},
   "outputs": [
    {
     "name": "stdout",
     "output_type": "stream",
     "text": [
      "total de filas en el dataframe: 32135\n"
     ]
    }
   ],
   "source": [
    "# cantidad de filas que quedaron, despues de eliminar aquellas que tenian todas las columnas con valores nulos\n",
    "total_filas=steam_games.shape[0]\n",
    "print(f'total de filas en el dataframe: {total_filas}')"
   ]
  },
  {
   "cell_type": "markdown",
   "metadata": {},
   "source": [
    "chequeo de valores nulos"
   ]
  },
  {
   "cell_type": "code",
   "execution_count": 84,
   "metadata": {},
   "outputs": [
    {
     "data": {
      "text/plain": [
       "publisher       8052\n",
       "genres          3283\n",
       "app_name           2\n",
       "title           2050\n",
       "url                0\n",
       "release_date    2067\n",
       "tags             163\n",
       "reviews_url        2\n",
       "specs            670\n",
       "price           1377\n",
       "early_access       0\n",
       "id                 2\n",
       "developer       3299\n",
       "dtype: int64"
      ]
     },
     "execution_count": 84,
     "metadata": {},
     "output_type": "execute_result"
    }
   ],
   "source": [
    "# verificamos valores nulos\n",
    "steam_games.isnull().sum()"
   ]
  },
  {
   "cell_type": "code",
   "execution_count": 85,
   "metadata": {},
   "outputs": [
    {
     "name": "stdout",
     "output_type": "stream",
     "text": [
      "<class 'pandas.core.frame.DataFrame'>\n",
      "RangeIndex: 32135 entries, 0 to 32134\n",
      "Data columns (total 13 columns):\n",
      " #   Column        Non-Null Count  Dtype \n",
      "---  ------        --------------  ----- \n",
      " 0   publisher     24083 non-null  object\n",
      " 1   genres        28852 non-null  object\n",
      " 2   app_name      32133 non-null  object\n",
      " 3   title         30085 non-null  object\n",
      " 4   url           32135 non-null  object\n",
      " 5   release_date  30068 non-null  object\n",
      " 6   tags          31972 non-null  object\n",
      " 7   reviews_url   32133 non-null  object\n",
      " 8   specs         31465 non-null  object\n",
      " 9   price         30758 non-null  object\n",
      " 10  early_access  32135 non-null  object\n",
      " 11  id            32133 non-null  object\n",
      " 12  developer     28836 non-null  object\n",
      "dtypes: object(13)\n",
      "memory usage: 3.2+ MB\n"
     ]
    }
   ],
   "source": [
    "steam_games.info()"
   ]
  },
  {
   "cell_type": "markdown",
   "metadata": {},
   "source": [
    "eliminamos las columnas que no utilizaremos con el fin de optimizar el tratamiento de los datos"
   ]
  },
  {
   "cell_type": "code",
   "execution_count": 86,
   "metadata": {},
   "outputs": [
    {
     "data": {
      "text/html": [
       "<div>\n",
       "<style scoped>\n",
       "    .dataframe tbody tr th:only-of-type {\n",
       "        vertical-align: middle;\n",
       "    }\n",
       "\n",
       "    .dataframe tbody tr th {\n",
       "        vertical-align: top;\n",
       "    }\n",
       "\n",
       "    .dataframe thead th {\n",
       "        text-align: right;\n",
       "    }\n",
       "</style>\n",
       "<table border=\"1\" class=\"dataframe\">\n",
       "  <thead>\n",
       "    <tr style=\"text-align: right;\">\n",
       "      <th></th>\n",
       "      <th>genres</th>\n",
       "      <th>app_name</th>\n",
       "      <th>release_date</th>\n",
       "      <th>price</th>\n",
       "      <th>id</th>\n",
       "      <th>developer</th>\n",
       "    </tr>\n",
       "  </thead>\n",
       "  <tbody>\n",
       "    <tr>\n",
       "      <th>0</th>\n",
       "      <td>[Action, Casual, Indie, Simulation, Strategy]</td>\n",
       "      <td>Lost Summoner Kitty</td>\n",
       "      <td>2018-01-04</td>\n",
       "      <td>4.99</td>\n",
       "      <td>761140</td>\n",
       "      <td>Kotoshiro</td>\n",
       "    </tr>\n",
       "    <tr>\n",
       "      <th>1</th>\n",
       "      <td>[Free to Play, Indie, RPG, Strategy]</td>\n",
       "      <td>Ironbound</td>\n",
       "      <td>2018-01-04</td>\n",
       "      <td>Free To Play</td>\n",
       "      <td>643980</td>\n",
       "      <td>Secret Level SRL</td>\n",
       "    </tr>\n",
       "    <tr>\n",
       "      <th>2</th>\n",
       "      <td>[Casual, Free to Play, Indie, Simulation, Sports]</td>\n",
       "      <td>Real Pool 3D - Poolians</td>\n",
       "      <td>2017-07-24</td>\n",
       "      <td>Free to Play</td>\n",
       "      <td>670290</td>\n",
       "      <td>Poolians.com</td>\n",
       "    </tr>\n",
       "    <tr>\n",
       "      <th>3</th>\n",
       "      <td>[Action, Adventure, Casual]</td>\n",
       "      <td>弹炸人2222</td>\n",
       "      <td>2017-12-07</td>\n",
       "      <td>0.99</td>\n",
       "      <td>767400</td>\n",
       "      <td>彼岸领域</td>\n",
       "    </tr>\n",
       "    <tr>\n",
       "      <th>4</th>\n",
       "      <td>NaN</td>\n",
       "      <td>Log Challenge</td>\n",
       "      <td>NaN</td>\n",
       "      <td>2.99</td>\n",
       "      <td>773570</td>\n",
       "      <td>NaN</td>\n",
       "    </tr>\n",
       "    <tr>\n",
       "      <th>...</th>\n",
       "      <td>...</td>\n",
       "      <td>...</td>\n",
       "      <td>...</td>\n",
       "      <td>...</td>\n",
       "      <td>...</td>\n",
       "      <td>...</td>\n",
       "    </tr>\n",
       "    <tr>\n",
       "      <th>32130</th>\n",
       "      <td>[Casual, Indie, Simulation, Strategy]</td>\n",
       "      <td>Colony On Mars</td>\n",
       "      <td>2018-01-04</td>\n",
       "      <td>1.99</td>\n",
       "      <td>773640</td>\n",
       "      <td>Nikita \"Ghost_RUS\"</td>\n",
       "    </tr>\n",
       "    <tr>\n",
       "      <th>32131</th>\n",
       "      <td>[Casual, Indie, Strategy]</td>\n",
       "      <td>LOGistICAL: South Africa</td>\n",
       "      <td>2018-01-04</td>\n",
       "      <td>4.99</td>\n",
       "      <td>733530</td>\n",
       "      <td>Sacada</td>\n",
       "    </tr>\n",
       "    <tr>\n",
       "      <th>32132</th>\n",
       "      <td>[Indie, Racing, Simulation]</td>\n",
       "      <td>Russian Roads</td>\n",
       "      <td>2018-01-04</td>\n",
       "      <td>1.99</td>\n",
       "      <td>610660</td>\n",
       "      <td>Laush Dmitriy Sergeevich</td>\n",
       "    </tr>\n",
       "    <tr>\n",
       "      <th>32133</th>\n",
       "      <td>[Casual, Indie]</td>\n",
       "      <td>EXIT 2 - Directions</td>\n",
       "      <td>2017-09-02</td>\n",
       "      <td>4.99</td>\n",
       "      <td>658870</td>\n",
       "      <td>xropi,stev3ns</td>\n",
       "    </tr>\n",
       "    <tr>\n",
       "      <th>32134</th>\n",
       "      <td>NaN</td>\n",
       "      <td>Maze Run VR</td>\n",
       "      <td>NaN</td>\n",
       "      <td>4.99</td>\n",
       "      <td>681550</td>\n",
       "      <td>NaN</td>\n",
       "    </tr>\n",
       "  </tbody>\n",
       "</table>\n",
       "<p>32135 rows × 6 columns</p>\n",
       "</div>"
      ],
      "text/plain": [
       "                                                  genres  \\\n",
       "0          [Action, Casual, Indie, Simulation, Strategy]   \n",
       "1                   [Free to Play, Indie, RPG, Strategy]   \n",
       "2      [Casual, Free to Play, Indie, Simulation, Sports]   \n",
       "3                            [Action, Adventure, Casual]   \n",
       "4                                                    NaN   \n",
       "...                                                  ...   \n",
       "32130              [Casual, Indie, Simulation, Strategy]   \n",
       "32131                          [Casual, Indie, Strategy]   \n",
       "32132                        [Indie, Racing, Simulation]   \n",
       "32133                                    [Casual, Indie]   \n",
       "32134                                                NaN   \n",
       "\n",
       "                       app_name release_date         price      id  \\\n",
       "0           Lost Summoner Kitty   2018-01-04          4.99  761140   \n",
       "1                     Ironbound   2018-01-04  Free To Play  643980   \n",
       "2       Real Pool 3D - Poolians   2017-07-24  Free to Play  670290   \n",
       "3                       弹炸人2222   2017-12-07          0.99  767400   \n",
       "4                 Log Challenge          NaN          2.99  773570   \n",
       "...                         ...          ...           ...     ...   \n",
       "32130            Colony On Mars   2018-01-04          1.99  773640   \n",
       "32131  LOGistICAL: South Africa   2018-01-04          4.99  733530   \n",
       "32132             Russian Roads   2018-01-04          1.99  610660   \n",
       "32133       EXIT 2 - Directions   2017-09-02          4.99  658870   \n",
       "32134               Maze Run VR          NaN          4.99  681550   \n",
       "\n",
       "                      developer  \n",
       "0                     Kotoshiro  \n",
       "1              Secret Level SRL  \n",
       "2                  Poolians.com  \n",
       "3                          彼岸领域  \n",
       "4                           NaN  \n",
       "...                         ...  \n",
       "32130        Nikita \"Ghost_RUS\"  \n",
       "32131                    Sacada  \n",
       "32132  Laush Dmitriy Sergeevich  \n",
       "32133             xropi,stev3ns  \n",
       "32134                       NaN  \n",
       "\n",
       "[32135 rows x 6 columns]"
      ]
     },
     "execution_count": 86,
     "metadata": {},
     "output_type": "execute_result"
    }
   ],
   "source": [
    "# procedemos a eliminar las columnas\n",
    "steam_games.drop(columns=['publisher', 'title', 'url','reviews_url', 'specs', 'early_access', 'tags'], axis=1, inplace=True)\n",
    "steam_games.reindex()"
   ]
  },
  {
   "cell_type": "code",
   "execution_count": 87,
   "metadata": {},
   "outputs": [
    {
     "name": "stdout",
     "output_type": "stream",
     "text": [
      "<class 'pandas.core.frame.DataFrame'>\n",
      "RangeIndex: 32135 entries, 0 to 32134\n",
      "Data columns (total 6 columns):\n",
      " #   Column        Non-Null Count  Dtype \n",
      "---  ------        --------------  ----- \n",
      " 0   genres        28852 non-null  object\n",
      " 1   app_name      32133 non-null  object\n",
      " 2   release_date  30068 non-null  object\n",
      " 3   price         30758 non-null  object\n",
      " 4   id            32133 non-null  object\n",
      " 5   developer     28836 non-null  object\n",
      "dtypes: object(6)\n",
      "memory usage: 1.5+ MB\n"
     ]
    }
   ],
   "source": [
    "steam_games.info()"
   ]
  },
  {
   "cell_type": "code",
   "execution_count": 88,
   "metadata": {},
   "outputs": [
    {
     "data": {
      "text/plain": [
       "0             Lost Summoner Kitty\n",
       "1                       Ironbound\n",
       "2         Real Pool 3D - Poolians\n",
       "3                         弹炸人2222\n",
       "4                   Log Challenge\n",
       "                   ...           \n",
       "32130              Colony On Mars\n",
       "32131    LOGistICAL: South Africa\n",
       "32132               Russian Roads\n",
       "32133         EXIT 2 - Directions\n",
       "32134                 Maze Run VR\n",
       "Name: app_name, Length: 32135, dtype: object"
      ]
     },
     "execution_count": 88,
     "metadata": {},
     "output_type": "execute_result"
    }
   ],
   "source": [
    "# data de la columna 'app_name'\n",
    "steam_games['app_name']"
   ]
  },
  {
   "cell_type": "code",
   "execution_count": 89,
   "metadata": {},
   "outputs": [
    {
     "name": "stdout",
     "output_type": "stream",
     "text": [
      "valores nulos en la columna app_name: 2\n",
      "cantidad total de registros: 32135\n"
     ]
    }
   ],
   "source": [
    "# verificamos valores nulos en la columna 'app_name'\n",
    "nulos_app_name= steam_games['app_name'].isnull().sum()\n",
    "\n",
    "# cantidad total de registros en el dataframe\n",
    "registros_total= len(steam_games)\n",
    "print(f'valores nulos en la columna app_name: {nulos_app_name}')\n",
    "print(f'cantidad total de registros: {registros_total}')"
   ]
  },
  {
   "cell_type": "code",
   "execution_count": 90,
   "metadata": {},
   "outputs": [],
   "source": [
    "# eliminamos valores nulos en la columna 'app_name' ya que los valores nulos solo representan 2 registros para un total de 32135 registros en el dataframe\n",
    "steam_games.dropna(subset=['app_name'], inplace=True)"
   ]
  },
  {
   "cell_type": "code",
   "execution_count": 91,
   "metadata": {},
   "outputs": [
    {
     "data": {
      "text/plain": [
       "0"
      ]
     },
     "execution_count": 91,
     "metadata": {},
     "output_type": "execute_result"
    }
   ],
   "source": [
    "# verificamos valores nulos en la columna 'app_name'\n",
    "steam_games['app_name'].isnull().sum()"
   ]
  },
  {
   "cell_type": "markdown",
   "metadata": {},
   "source": [
    "se normaliza la columna app_name, eliminando caracteres no alfabeticos, espacios adicionales y convirtiendo letras a minuscula"
   ]
  },
  {
   "cell_type": "code",
   "execution_count": 92,
   "metadata": {},
   "outputs": [],
   "source": [
    "# normalizamos la columna 'app_name', eliminando espacios adicionales, caracteres no alfabeticos y convirtiendo letras a minuscula\n",
    "def normalize_developer_name(name):\n",
    "    if isinstance(name, str):  \n",
    "        cleaned_name = re.sub(r'[^a-zA-Z\\s]', '', name)\n",
    "        normalized_name = re.sub(r'\\s+', ' ', cleaned_name.lower().strip())\n",
    "        return normalized_name\n",
    "    else:\n",
    "        return name\n",
    "\n",
    "steam_games['app_name'] = steam_games['app_name'].apply(normalize_developer_name)\n",
    "# capitalizamos cada palabra de los valores de 'app_name'\n",
    "steam_games['app_name']= steam_games['app_name'].str.title()"
   ]
  },
  {
   "cell_type": "code",
   "execution_count": 93,
   "metadata": {},
   "outputs": [
    {
     "data": {
      "text/plain": [
       "0            Lost Summoner Kitty\n",
       "1                      Ironbound\n",
       "2           Real Pool D Poolians\n",
       "3                               \n",
       "4                  Log Challenge\n",
       "                  ...           \n",
       "32130             Colony On Mars\n",
       "32131    Logistical South Africa\n",
       "32132              Russian Roads\n",
       "32133            Exit Directions\n",
       "32134                Maze Run Vr\n",
       "Name: app_name, Length: 32133, dtype: object"
      ]
     },
     "execution_count": 93,
     "metadata": {},
     "output_type": "execute_result"
    }
   ],
   "source": [
    "steam_games['app_name']"
   ]
  },
  {
   "cell_type": "code",
   "execution_count": 94,
   "metadata": {},
   "outputs": [],
   "source": [
    "# cambiamos tipo de dato a la columna 'app_name'\n",
    "steam_games['app_name']=steam_games['app_name'].astype('string')"
   ]
  },
  {
   "cell_type": "code",
   "execution_count": 95,
   "metadata": {},
   "outputs": [
    {
     "data": {
      "text/plain": [
       "release_date\n",
       "2012-10-16    100\n",
       "2017-08-31     92\n",
       "2017-09-26     89\n",
       "2017-06-21     82\n",
       "2017-07-25     78\n",
       "             ... \n",
       "1988-04-16      1\n",
       "2013-08-24      1\n",
       "2011-05-07      1\n",
       "2010-08-21      1\n",
       "2018-10-01      1\n",
       "Name: count, Length: 3582, dtype: int64"
      ]
     },
     "execution_count": 95,
     "metadata": {},
     "output_type": "execute_result"
    }
   ],
   "source": [
    "# valores unicos de cada fecha\n",
    "steam_games['release_date'].value_counts()"
   ]
  },
  {
   "cell_type": "markdown",
   "metadata": {},
   "source": [
    "# transformacion\n",
    "\n",
    "extraemos el año de la columna release_date"
   ]
  },
  {
   "cell_type": "code",
   "execution_count": 96,
   "metadata": {},
   "outputs": [],
   "source": [
    "# extraemos solo el año de release date\n",
    "steam_games['release_date']=steam_games['release_date'].str.extract(r'(\\d{4})')"
   ]
  },
  {
   "cell_type": "code",
   "execution_count": 97,
   "metadata": {},
   "outputs": [],
   "source": [
    "# rellenamos los valores nulos con 0 con el fin de convertir la columna a tipo de dato int\n",
    "steam_games['release_date'].fillna('0', inplace=True)\n",
    "# se convierte la columna 'release_date' a tipo de dato int\n",
    "steam_games['release_date']= steam_games['release_date'].astype(int)"
   ]
  },
  {
   "cell_type": "code",
   "execution_count": 98,
   "metadata": {},
   "outputs": [
    {
     "data": {
      "text/plain": [
       "array([2018, 2017,    0, 1997, 1998, 2016, 2006, 2005, 2003, 2007, 2002,\n",
       "       2000, 1995, 1996, 1994, 2001, 1993, 2004, 1999, 2008, 2009, 1992,\n",
       "       1989, 2010, 2011, 2013, 2012, 2014, 1983, 1984, 2015, 1990, 1988,\n",
       "       1991, 1985, 1982, 1987, 1981, 1986, 2021, 5275, 2019, 1975, 1970,\n",
       "       1980])"
      ]
     },
     "execution_count": 98,
     "metadata": {},
     "output_type": "execute_result"
    }
   ],
   "source": [
    "# valores unicos de la columna 'release_date'\n",
    "steam_games['release_date'].unique()"
   ]
  },
  {
   "cell_type": "code",
   "execution_count": 99,
   "metadata": {},
   "outputs": [],
   "source": [
    "# excluimos el 0 de nuestros datos\n",
    "steam_games=steam_games[steam_games['release_date'] !=0]"
   ]
  },
  {
   "cell_type": "code",
   "execution_count": 100,
   "metadata": {},
   "outputs": [],
   "source": [
    "# renombramos columna 'release_date' a 'release_year'\n",
    "steam_games= steam_games.rename(columns={'release_date':'release_year'})"
   ]
  },
  {
   "cell_type": "code",
   "execution_count": 101,
   "metadata": {},
   "outputs": [
    {
     "name": "stdout",
     "output_type": "stream",
     "text": [
      "<class 'pandas.core.frame.DataFrame'>\n",
      "Index: 29966 entries, 0 to 32133\n",
      "Data columns (total 6 columns):\n",
      " #   Column        Non-Null Count  Dtype \n",
      "---  ------        --------------  ----- \n",
      " 0   genres        28732 non-null  object\n",
      " 1   app_name      29966 non-null  string\n",
      " 2   release_year  29966 non-null  int32 \n",
      " 3   price         28818 non-null  object\n",
      " 4   id            29965 non-null  object\n",
      " 5   developer     28717 non-null  object\n",
      "dtypes: int32(1), object(4), string(1)\n",
      "memory usage: 1.5+ MB\n"
     ]
    }
   ],
   "source": [
    "# informacion general del dataframe\n",
    "steam_games.info()"
   ]
  },
  {
   "cell_type": "code",
   "execution_count": 102,
   "metadata": {},
   "outputs": [
    {
     "data": {
      "text/plain": [
       "0            [Action, Casual, Indie, Simulation, Strategy]\n",
       "1                     [Free to Play, Indie, RPG, Strategy]\n",
       "2        [Casual, Free to Play, Indie, Simulation, Sports]\n",
       "3                              [Action, Adventure, Casual]\n",
       "5                          [Action, Adventure, Simulation]\n",
       "                               ...                        \n",
       "32129                   [Action, Adventure, Casual, Indie]\n",
       "32130                [Casual, Indie, Simulation, Strategy]\n",
       "32131                            [Casual, Indie, Strategy]\n",
       "32132                          [Indie, Racing, Simulation]\n",
       "32133                                      [Casual, Indie]\n",
       "Name: genres, Length: 29966, dtype: object"
      ]
     },
     "execution_count": 102,
     "metadata": {},
     "output_type": "execute_result"
    }
   ],
   "source": [
    "# data de la columna 'genres'\n",
    "steam_games['genres']"
   ]
  },
  {
   "cell_type": "markdown",
   "metadata": {},
   "source": [
    "# transformacion\n",
    "\n",
    "utilizamos la funcion explode para extraer cada valor almacenado en la columna genres y mostrarlos en un nuevo campo conservando su id asociada original"
   ]
  },
  {
   "cell_type": "code",
   "execution_count": 103,
   "metadata": {},
   "outputs": [],
   "source": [
    "# utilizamos la funcion explode para extraer los valores de la columna 'genres', mostrandolos en un nuevo campo conservando su id asociada al original\n",
    "steam_games= steam_games.explode('genres')\n",
    "steam_games=steam_games.dropna(subset=['genres']).reset_index(drop=True)"
   ]
  },
  {
   "cell_type": "code",
   "execution_count": 104,
   "metadata": {},
   "outputs": [],
   "source": [
    "# convertimos los valores de la columna 'genres' en una cadena separada por comas\n",
    "steam_games['genres']= steam_games['genres'].astype(str).apply(lambda x: ', '.join(filter(None, x.split(','))))"
   ]
  },
  {
   "cell_type": "code",
   "execution_count": 105,
   "metadata": {},
   "outputs": [
    {
     "data": {
      "text/html": [
       "<div>\n",
       "<style scoped>\n",
       "    .dataframe tbody tr th:only-of-type {\n",
       "        vertical-align: middle;\n",
       "    }\n",
       "\n",
       "    .dataframe tbody tr th {\n",
       "        vertical-align: top;\n",
       "    }\n",
       "\n",
       "    .dataframe thead th {\n",
       "        text-align: right;\n",
       "    }\n",
       "</style>\n",
       "<table border=\"1\" class=\"dataframe\">\n",
       "  <thead>\n",
       "    <tr style=\"text-align: right;\">\n",
       "      <th></th>\n",
       "      <th>genres</th>\n",
       "      <th>app_name</th>\n",
       "      <th>release_year</th>\n",
       "      <th>price</th>\n",
       "      <th>id</th>\n",
       "      <th>developer</th>\n",
       "    </tr>\n",
       "  </thead>\n",
       "  <tbody>\n",
       "    <tr>\n",
       "      <th>0</th>\n",
       "      <td>Action</td>\n",
       "      <td>Lost Summoner Kitty</td>\n",
       "      <td>2018</td>\n",
       "      <td>4.99</td>\n",
       "      <td>761140</td>\n",
       "      <td>Kotoshiro</td>\n",
       "    </tr>\n",
       "    <tr>\n",
       "      <th>1</th>\n",
       "      <td>Casual</td>\n",
       "      <td>Lost Summoner Kitty</td>\n",
       "      <td>2018</td>\n",
       "      <td>4.99</td>\n",
       "      <td>761140</td>\n",
       "      <td>Kotoshiro</td>\n",
       "    </tr>\n",
       "    <tr>\n",
       "      <th>2</th>\n",
       "      <td>Indie</td>\n",
       "      <td>Lost Summoner Kitty</td>\n",
       "      <td>2018</td>\n",
       "      <td>4.99</td>\n",
       "      <td>761140</td>\n",
       "      <td>Kotoshiro</td>\n",
       "    </tr>\n",
       "    <tr>\n",
       "      <th>3</th>\n",
       "      <td>Simulation</td>\n",
       "      <td>Lost Summoner Kitty</td>\n",
       "      <td>2018</td>\n",
       "      <td>4.99</td>\n",
       "      <td>761140</td>\n",
       "      <td>Kotoshiro</td>\n",
       "    </tr>\n",
       "    <tr>\n",
       "      <th>4</th>\n",
       "      <td>Strategy</td>\n",
       "      <td>Lost Summoner Kitty</td>\n",
       "      <td>2018</td>\n",
       "      <td>4.99</td>\n",
       "      <td>761140</td>\n",
       "      <td>Kotoshiro</td>\n",
       "    </tr>\n",
       "    <tr>\n",
       "      <th>...</th>\n",
       "      <td>...</td>\n",
       "      <td>...</td>\n",
       "      <td>...</td>\n",
       "      <td>...</td>\n",
       "      <td>...</td>\n",
       "      <td>...</td>\n",
       "    </tr>\n",
       "    <tr>\n",
       "      <th>71209</th>\n",
       "      <td>Indie</td>\n",
       "      <td>Russian Roads</td>\n",
       "      <td>2018</td>\n",
       "      <td>1.99</td>\n",
       "      <td>610660</td>\n",
       "      <td>Laush Dmitriy Sergeevich</td>\n",
       "    </tr>\n",
       "    <tr>\n",
       "      <th>71210</th>\n",
       "      <td>Racing</td>\n",
       "      <td>Russian Roads</td>\n",
       "      <td>2018</td>\n",
       "      <td>1.99</td>\n",
       "      <td>610660</td>\n",
       "      <td>Laush Dmitriy Sergeevich</td>\n",
       "    </tr>\n",
       "    <tr>\n",
       "      <th>71211</th>\n",
       "      <td>Simulation</td>\n",
       "      <td>Russian Roads</td>\n",
       "      <td>2018</td>\n",
       "      <td>1.99</td>\n",
       "      <td>610660</td>\n",
       "      <td>Laush Dmitriy Sergeevich</td>\n",
       "    </tr>\n",
       "    <tr>\n",
       "      <th>71212</th>\n",
       "      <td>Casual</td>\n",
       "      <td>Exit Directions</td>\n",
       "      <td>2017</td>\n",
       "      <td>4.99</td>\n",
       "      <td>658870</td>\n",
       "      <td>xropi,stev3ns</td>\n",
       "    </tr>\n",
       "    <tr>\n",
       "      <th>71213</th>\n",
       "      <td>Indie</td>\n",
       "      <td>Exit Directions</td>\n",
       "      <td>2017</td>\n",
       "      <td>4.99</td>\n",
       "      <td>658870</td>\n",
       "      <td>xropi,stev3ns</td>\n",
       "    </tr>\n",
       "  </tbody>\n",
       "</table>\n",
       "<p>71214 rows × 6 columns</p>\n",
       "</div>"
      ],
      "text/plain": [
       "           genres             app_name  release_year price      id  \\\n",
       "0          Action  Lost Summoner Kitty          2018  4.99  761140   \n",
       "1          Casual  Lost Summoner Kitty          2018  4.99  761140   \n",
       "2           Indie  Lost Summoner Kitty          2018  4.99  761140   \n",
       "3      Simulation  Lost Summoner Kitty          2018  4.99  761140   \n",
       "4        Strategy  Lost Summoner Kitty          2018  4.99  761140   \n",
       "...           ...                  ...           ...   ...     ...   \n",
       "71209       Indie        Russian Roads          2018  1.99  610660   \n",
       "71210      Racing        Russian Roads          2018  1.99  610660   \n",
       "71211  Simulation        Russian Roads          2018  1.99  610660   \n",
       "71212      Casual      Exit Directions          2017  4.99  658870   \n",
       "71213       Indie      Exit Directions          2017  4.99  658870   \n",
       "\n",
       "                      developer  \n",
       "0                     Kotoshiro  \n",
       "1                     Kotoshiro  \n",
       "2                     Kotoshiro  \n",
       "3                     Kotoshiro  \n",
       "4                     Kotoshiro  \n",
       "...                         ...  \n",
       "71209  Laush Dmitriy Sergeevich  \n",
       "71210  Laush Dmitriy Sergeevich  \n",
       "71211  Laush Dmitriy Sergeevich  \n",
       "71212             xropi,stev3ns  \n",
       "71213             xropi,stev3ns  \n",
       "\n",
       "[71214 rows x 6 columns]"
      ]
     },
     "execution_count": 105,
     "metadata": {},
     "output_type": "execute_result"
    }
   ],
   "source": [
    "steam_games"
   ]
  },
  {
   "cell_type": "code",
   "execution_count": 106,
   "metadata": {},
   "outputs": [
    {
     "data": {
      "text/plain": [
       "array([4.99, 'Free To Play', 'Free to Play', 0.99, 3.99, 9.99, 18.99,\n",
       "       29.99, nan, 10.99, 2.99, 1.59, 14.99, 1.99, 59.99, 8.99, 6.99,\n",
       "       7.99, 39.99, 'Free', 19.99, 7.49, 12.99, 5.99, 2.49, 15.99, 1.25,\n",
       "       24.99, 17.99, 61.99, 3.49, 11.99, 13.99, 'Free Demo',\n",
       "       'Play for Free!', 34.99, 1.49, 32.99, 99.99, 14.95, 69.99, 16.99,\n",
       "       79.99, 49.99, 5.0, 44.99, 13.98, 29.96, 109.99, 149.99, 771.71,\n",
       "       'Install Now', 21.99, 89.99, 'Play WARMACHINE: Tactics Demo', 0.98,\n",
       "       139.92, 4.29, 64.99, 'Free Mod', 54.99, 74.99, 'Install Theme',\n",
       "       0.89, 'Third-party', 0.5, 'Play Now', 299.99, 1.29, 119.99, 3.0,\n",
       "       15.0, 5.49, 23.99, 49.0, 20.99, 10.93, 1.39,\n",
       "       'Free HITMAN™ Holiday Pack', 36.99, 4.49, 2.0, 4.0, 1.95, 1.5,\n",
       "       199.0, 189.0, 6.66, 27.99, 129.99, 179.0, 26.99, 399.99, 31.99,\n",
       "       399.0, 20.0, 40.0, 3.33, 22.99, 320.0, 38.85, 71.7, 995.0, 27.49,\n",
       "       3.39, 6.0, 19.95, 499.99, 199.99, 16.06, 4.68, 131.4, 44.98,\n",
       "       202.76, 2.3, 0.95, 172.24, 249.99, 2.97, 10.96, 10.0, 30.0, 2.66,\n",
       "       6.48, 1.0, 11.15, 'Play the Demo', 99.0, 87.94, 0.49, 9.98, 9.95,\n",
       "       7.0, 12.89, 6.49, 1.87, 42.99, 41.99, 289.99, 'Free to Try', 23.96,\n",
       "       5.65, 12.0, 59.95, 13.37, 189.96, 124.99, 19.98, 160.91,\n",
       "       'Free to Use'], dtype=object)"
      ]
     },
     "execution_count": 106,
     "metadata": {},
     "output_type": "execute_result"
    }
   ],
   "source": [
    "# data de la columna 'price'\n",
    "steam_games['price'].unique()"
   ]
  },
  {
   "cell_type": "markdown",
   "metadata": {},
   "source": [
    "hay algunos valores en la columna 'price' que son tipo 'str' , en su gran mayoria haciendo aluciones a que son free, asi que seran reemplazados por 0.0 para posteriormente cambiar el tipo de dato de la columna a float"
   ]
  },
  {
   "cell_type": "code",
   "execution_count": 107,
   "metadata": {},
   "outputs": [],
   "source": [
    "#reemplazamos 'Free to Play' y otros textos similares por 0 por medio de un diccionario\n",
    "replacement_dict = {\n",
    "    'Free to Play': 0.0,\n",
    "    'Free To Play': 0.0,\n",
    "    'Play the Demo': 0.0,\n",
    "    'Install Now': 0.0,\n",
    "    'Free Mod': 0.0,\n",
    "    'Play for Free!': 0.0,\n",
    "    'Play WARMACHINE: Tactics Demo': 0.0,\n",
    "    'Install Theme': 0.0,\n",
    "    'Third-party': 0.0,\n",
    "    'Play Now': 0.0,\n",
    "    'Free HITMAN™ Holiday Pack': 0.0,\n",
    "    'Free Movie': 0.0,\n",
    "    'Free': 0.0,\n",
    "    'Free Demo': 0.0,\n",
    "    'Free to Try': 0.0,\n",
    "    'Free to Use':0.0\n",
    "}\n",
    "\n",
    "#aplicamos el reemplazo usando el diccionarip\n",
    "steam_games['price'].replace(replacement_dict, inplace=True)\n",
    "# cambiamos tipo de dato de la columna a float\n",
    "steam_games['price']=steam_games['price'].astype(float)"
   ]
  },
  {
   "cell_type": "code",
   "execution_count": 108,
   "metadata": {},
   "outputs": [
    {
     "name": "stdout",
     "output_type": "stream",
     "text": [
      "valores nulos columna price: 2875\n",
      "valores no nulos columna price: 68339\n"
     ]
    }
   ],
   "source": [
    "# contamos nulos de la columna 'price'\n",
    "nulos_price=steam_games.price.isnull().sum()\n",
    "print(f'valores nulos columna price: {nulos_price}')\n",
    "no_nulos_price= steam_games['price'].notnull().sum()\n",
    "print(f'valores no nulos columna price: {no_nulos_price}')"
   ]
  },
  {
   "cell_type": "code",
   "execution_count": 109,
   "metadata": {},
   "outputs": [
    {
     "name": "stdout",
     "output_type": "stream",
     "text": [
      "proporcion de valores nulos en price: 4.04%\n"
     ]
    }
   ],
   "source": [
    "# proporcion de valores nulos en la columna 'price'\n",
    "proporcion_nulos_price= steam_games['price'].isnull().sum() / len(steam_games)\n",
    "print(f'proporcion de valores nulos en price: {proporcion_nulos_price:.2%}')"
   ]
  },
  {
   "cell_type": "markdown",
   "metadata": {},
   "source": [
    "ya que la proporcion de valores nulos en la columna price es baja (4.04%), procederemos a eliminar estos registros nulos"
   ]
  },
  {
   "cell_type": "code",
   "execution_count": 110,
   "metadata": {},
   "outputs": [],
   "source": [
    "# eliminamos valores nulos de la columna 'price'\n",
    "steam_games= steam_games.dropna(subset=['price'])"
   ]
  },
  {
   "cell_type": "code",
   "execution_count": 111,
   "metadata": {},
   "outputs": [
    {
     "name": "stdout",
     "output_type": "stream",
     "text": [
      "valores nulos columna price: 0\n"
     ]
    }
   ],
   "source": [
    "# verificamos valores nulos de la columna 'price'\n",
    "nulos_price=steam_games.price.isnull().sum()\n",
    "print(f'valores nulos columna price: {nulos_price}')"
   ]
  },
  {
   "cell_type": "code",
   "execution_count": 112,
   "metadata": {},
   "outputs": [
    {
     "data": {
      "text/plain": [
       "0        761140\n",
       "1        761140\n",
       "2        761140\n",
       "3        761140\n",
       "4        761140\n",
       "          ...  \n",
       "71209    610660\n",
       "71210    610660\n",
       "71211    610660\n",
       "71212    658870\n",
       "71213    658870\n",
       "Name: id, Length: 68339, dtype: object"
      ]
     },
     "execution_count": 112,
     "metadata": {},
     "output_type": "execute_result"
    }
   ],
   "source": [
    "# data de la columna 'id'\n",
    "steam_games['id']"
   ]
  },
  {
   "cell_type": "code",
   "execution_count": 113,
   "metadata": {},
   "outputs": [],
   "source": [
    "# renombramos columna 'id' a 'item_id'\n",
    "steam_games= steam_games.rename(columns={'id':'item_id'})"
   ]
  },
  {
   "cell_type": "code",
   "execution_count": 114,
   "metadata": {},
   "outputs": [
    {
     "name": "stdout",
     "output_type": "stream",
     "text": [
      "cantidad de nulos en la columna item_id: 2\n",
      "cantidad total de registros: 68339\n"
     ]
    }
   ],
   "source": [
    "# verificamos nulos de la columna 'item_id'\n",
    "nulos_item_id= steam_games['item_id'].isnull().sum()\n",
    "# verificamos cantidad total de registros en el dataframe\n",
    "registros_total= len(steam_games)\n",
    "\n",
    "print(f'cantidad de nulos en la columna item_id: {nulos_item_id}')\n",
    "print(f'cantidad total de registros: {registros_total}')\n"
   ]
  },
  {
   "cell_type": "code",
   "execution_count": 115,
   "metadata": {},
   "outputs": [],
   "source": [
    "# eliminamos valores nulos en la columna 'item_id' ya que los valores nulos solo representan 2 registros para un total de 68,339 registros en el dataframe\n",
    "steam_games.dropna(subset=['item_id'], inplace=True)"
   ]
  },
  {
   "cell_type": "code",
   "execution_count": 116,
   "metadata": {},
   "outputs": [],
   "source": [
    "# cambiamos tipo de dato de la columna 'item_id' a int\n",
    "steam_games['item_id']= steam_games['item_id'].astype(int)"
   ]
  },
  {
   "cell_type": "code",
   "execution_count": 117,
   "metadata": {},
   "outputs": [
    {
     "data": {
      "text/plain": [
       "0                       Kotoshiro\n",
       "1                       Kotoshiro\n",
       "2                       Kotoshiro\n",
       "3                       Kotoshiro\n",
       "4                       Kotoshiro\n",
       "                   ...           \n",
       "71209    Laush Dmitriy Sergeevich\n",
       "71210    Laush Dmitriy Sergeevich\n",
       "71211    Laush Dmitriy Sergeevich\n",
       "71212               xropi,stev3ns\n",
       "71213               xropi,stev3ns\n",
       "Name: developer, Length: 68337, dtype: object"
      ]
     },
     "execution_count": 117,
     "metadata": {},
     "output_type": "execute_result"
    }
   ],
   "source": [
    "# vemos la data de la columna 'developer'\n",
    "steam_games['developer']"
   ]
  },
  {
   "cell_type": "code",
   "execution_count": 118,
   "metadata": {},
   "outputs": [
    {
     "name": "stdout",
     "output_type": "stream",
     "text": [
      "valores nulos en la columna developer 320\n",
      "valores no nulos de la columna developer: 68017\n"
     ]
    }
   ],
   "source": [
    "# contamos los valores nulos de la columna 'developer'\n",
    "nulos_developer= steam_games['developer'].isnull().sum()\n",
    "print(f'valores nulos en la columna developer {nulos_developer}')\n",
    "# contamos los valores no nulos de la columna 'developer'\n",
    "no_nulos_developer= steam_games['developer'].notnull().sum()\n",
    "print(f'valores no nulos de la columna developer: {no_nulos_developer}')"
   ]
  },
  {
   "cell_type": "code",
   "execution_count": 119,
   "metadata": {},
   "outputs": [
    {
     "name": "stdout",
     "output_type": "stream",
     "text": [
      "la proporcion de valores nulos de la columna developer es: 0.47%\n"
     ]
    }
   ],
   "source": [
    "# proporcion de valores nulos en la columna 'developer'\n",
    "proporcion_nulo_developer= steam_games['developer'].isnull().sum() / len(steam_games)\n",
    "print(f'la proporcion de valores nulos de la columna developer es: {proporcion_nulo_developer:.2%}')"
   ]
  },
  {
   "cell_type": "markdown",
   "metadata": {},
   "source": [
    "ya que la proporcion de valores nulos de la columna developer es muy baja (0.47%) se proceden a eliminar estos registros nulos"
   ]
  },
  {
   "cell_type": "code",
   "execution_count": 120,
   "metadata": {},
   "outputs": [
    {
     "name": "stdout",
     "output_type": "stream",
     "text": [
      "valores nulos en la columna developer 0\n"
     ]
    }
   ],
   "source": [
    "steam_games= steam_games.dropna(subset=['developer']).reset_index(drop=True)\n",
    "# verificamos los valores nulos de la columna 'developer'\n",
    "nulos_developer= steam_games['developer'].isnull().sum()\n",
    "print(f'valores nulos en la columna developer {nulos_developer}')"
   ]
  },
  {
   "cell_type": "code",
   "execution_count": 121,
   "metadata": {},
   "outputs": [
    {
     "name": "stdout",
     "output_type": "stream",
     "text": [
      "<class 'pandas.core.frame.DataFrame'>\n",
      "RangeIndex: 68017 entries, 0 to 68016\n",
      "Data columns (total 6 columns):\n",
      " #   Column        Non-Null Count  Dtype  \n",
      "---  ------        --------------  -----  \n",
      " 0   genres        68017 non-null  object \n",
      " 1   app_name      68017 non-null  string \n",
      " 2   release_year  68017 non-null  int32  \n",
      " 3   price         68017 non-null  float64\n",
      " 4   item_id       68017 non-null  int32  \n",
      " 5   developer     68017 non-null  object \n",
      "dtypes: float64(1), int32(2), object(2), string(1)\n",
      "memory usage: 2.6+ MB\n"
     ]
    }
   ],
   "source": [
    "steam_games.info()"
   ]
  },
  {
   "cell_type": "code",
   "execution_count": 122,
   "metadata": {},
   "outputs": [],
   "source": [
    "# redondeamos las columnas con caracteristicas mas importantes a criterio\n",
    "steam_games = steam_games[['item_id','app_name','genres','developer','price','release_year']]"
   ]
  },
  {
   "cell_type": "code",
   "execution_count": 123,
   "metadata": {},
   "outputs": [
    {
     "data": {
      "text/html": [
       "<div>\n",
       "<style scoped>\n",
       "    .dataframe tbody tr th:only-of-type {\n",
       "        vertical-align: middle;\n",
       "    }\n",
       "\n",
       "    .dataframe tbody tr th {\n",
       "        vertical-align: top;\n",
       "    }\n",
       "\n",
       "    .dataframe thead th {\n",
       "        text-align: right;\n",
       "    }\n",
       "</style>\n",
       "<table border=\"1\" class=\"dataframe\">\n",
       "  <thead>\n",
       "    <tr style=\"text-align: right;\">\n",
       "      <th></th>\n",
       "      <th>item_id</th>\n",
       "      <th>app_name</th>\n",
       "      <th>genres</th>\n",
       "      <th>developer</th>\n",
       "      <th>price</th>\n",
       "      <th>release_year</th>\n",
       "    </tr>\n",
       "  </thead>\n",
       "  <tbody>\n",
       "    <tr>\n",
       "      <th>0</th>\n",
       "      <td>761140</td>\n",
       "      <td>Lost Summoner Kitty</td>\n",
       "      <td>Action</td>\n",
       "      <td>Kotoshiro</td>\n",
       "      <td>4.99</td>\n",
       "      <td>2018</td>\n",
       "    </tr>\n",
       "    <tr>\n",
       "      <th>1</th>\n",
       "      <td>761140</td>\n",
       "      <td>Lost Summoner Kitty</td>\n",
       "      <td>Casual</td>\n",
       "      <td>Kotoshiro</td>\n",
       "      <td>4.99</td>\n",
       "      <td>2018</td>\n",
       "    </tr>\n",
       "    <tr>\n",
       "      <th>2</th>\n",
       "      <td>761140</td>\n",
       "      <td>Lost Summoner Kitty</td>\n",
       "      <td>Indie</td>\n",
       "      <td>Kotoshiro</td>\n",
       "      <td>4.99</td>\n",
       "      <td>2018</td>\n",
       "    </tr>\n",
       "    <tr>\n",
       "      <th>3</th>\n",
       "      <td>761140</td>\n",
       "      <td>Lost Summoner Kitty</td>\n",
       "      <td>Simulation</td>\n",
       "      <td>Kotoshiro</td>\n",
       "      <td>4.99</td>\n",
       "      <td>2018</td>\n",
       "    </tr>\n",
       "    <tr>\n",
       "      <th>4</th>\n",
       "      <td>761140</td>\n",
       "      <td>Lost Summoner Kitty</td>\n",
       "      <td>Strategy</td>\n",
       "      <td>Kotoshiro</td>\n",
       "      <td>4.99</td>\n",
       "      <td>2018</td>\n",
       "    </tr>\n",
       "    <tr>\n",
       "      <th>...</th>\n",
       "      <td>...</td>\n",
       "      <td>...</td>\n",
       "      <td>...</td>\n",
       "      <td>...</td>\n",
       "      <td>...</td>\n",
       "      <td>...</td>\n",
       "    </tr>\n",
       "    <tr>\n",
       "      <th>68012</th>\n",
       "      <td>610660</td>\n",
       "      <td>Russian Roads</td>\n",
       "      <td>Indie</td>\n",
       "      <td>Laush Dmitriy Sergeevich</td>\n",
       "      <td>1.99</td>\n",
       "      <td>2018</td>\n",
       "    </tr>\n",
       "    <tr>\n",
       "      <th>68013</th>\n",
       "      <td>610660</td>\n",
       "      <td>Russian Roads</td>\n",
       "      <td>Racing</td>\n",
       "      <td>Laush Dmitriy Sergeevich</td>\n",
       "      <td>1.99</td>\n",
       "      <td>2018</td>\n",
       "    </tr>\n",
       "    <tr>\n",
       "      <th>68014</th>\n",
       "      <td>610660</td>\n",
       "      <td>Russian Roads</td>\n",
       "      <td>Simulation</td>\n",
       "      <td>Laush Dmitriy Sergeevich</td>\n",
       "      <td>1.99</td>\n",
       "      <td>2018</td>\n",
       "    </tr>\n",
       "    <tr>\n",
       "      <th>68015</th>\n",
       "      <td>658870</td>\n",
       "      <td>Exit Directions</td>\n",
       "      <td>Casual</td>\n",
       "      <td>xropi,stev3ns</td>\n",
       "      <td>4.99</td>\n",
       "      <td>2017</td>\n",
       "    </tr>\n",
       "    <tr>\n",
       "      <th>68016</th>\n",
       "      <td>658870</td>\n",
       "      <td>Exit Directions</td>\n",
       "      <td>Indie</td>\n",
       "      <td>xropi,stev3ns</td>\n",
       "      <td>4.99</td>\n",
       "      <td>2017</td>\n",
       "    </tr>\n",
       "  </tbody>\n",
       "</table>\n",
       "<p>68017 rows × 6 columns</p>\n",
       "</div>"
      ],
      "text/plain": [
       "       item_id             app_name      genres                 developer  \\\n",
       "0       761140  Lost Summoner Kitty      Action                 Kotoshiro   \n",
       "1       761140  Lost Summoner Kitty      Casual                 Kotoshiro   \n",
       "2       761140  Lost Summoner Kitty       Indie                 Kotoshiro   \n",
       "3       761140  Lost Summoner Kitty  Simulation                 Kotoshiro   \n",
       "4       761140  Lost Summoner Kitty    Strategy                 Kotoshiro   \n",
       "...        ...                  ...         ...                       ...   \n",
       "68012   610660        Russian Roads       Indie  Laush Dmitriy Sergeevich   \n",
       "68013   610660        Russian Roads      Racing  Laush Dmitriy Sergeevich   \n",
       "68014   610660        Russian Roads  Simulation  Laush Dmitriy Sergeevich   \n",
       "68015   658870      Exit Directions      Casual             xropi,stev3ns   \n",
       "68016   658870      Exit Directions       Indie             xropi,stev3ns   \n",
       "\n",
       "       price  release_year  \n",
       "0       4.99          2018  \n",
       "1       4.99          2018  \n",
       "2       4.99          2018  \n",
       "3       4.99          2018  \n",
       "4       4.99          2018  \n",
       "...      ...           ...  \n",
       "68012   1.99          2018  \n",
       "68013   1.99          2018  \n",
       "68014   1.99          2018  \n",
       "68015   4.99          2017  \n",
       "68016   4.99          2017  \n",
       "\n",
       "[68017 rows x 6 columns]"
      ]
     },
     "execution_count": 123,
     "metadata": {},
     "output_type": "execute_result"
    }
   ],
   "source": [
    "steam_games"
   ]
  },
  {
   "cell_type": "markdown",
   "metadata": {},
   "source": [
    "# guardamos archivo a clean_steam_games.parquet"
   ]
  },
  {
   "cell_type": "code",
   "execution_count": 124,
   "metadata": {},
   "outputs": [],
   "source": [
    "steam_games.to_parquet('data/clean_steam_games.parquet')"
   ]
  }
 ],
 "metadata": {
  "kernelspec": {
   "display_name": "Python 3",
   "language": "python",
   "name": "python3"
  },
  "language_info": {
   "codemirror_mode": {
    "name": "ipython",
    "version": 3
   },
   "file_extension": ".py",
   "mimetype": "text/x-python",
   "name": "python",
   "nbconvert_exporter": "python",
   "pygments_lexer": "ipython3",
   "version": "3.11.3"
  }
 },
 "nbformat": 4,
 "nbformat_minor": 2
}
