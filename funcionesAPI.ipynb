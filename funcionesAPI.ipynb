{
 "cells": [
  {
   "cell_type": "markdown",
   "metadata": {},
   "source": [
    "# funciones para la API"
   ]
  },
  {
   "cell_type": "code",
   "execution_count": 18,
   "metadata": {},
   "outputs": [],
   "source": [
    "# importamos librerias\n",
    "import pandas as pd\n",
    "import pyarrow as pa\n",
    "import pyarrow.parquet as pq"
   ]
  },
  {
   "cell_type": "markdown",
   "metadata": {},
   "source": [
    "cargamos los archivos parquet"
   ]
  },
  {
   "cell_type": "code",
   "execution_count": 19,
   "metadata": {},
   "outputs": [],
   "source": [
    "# cargamos dataframes \n",
    "steam_games= pd.read_parquet('data/clean_steam_games.parquet')\n",
    "user_reviews= pd.read_parquet('data/clean_user_reviews.parquet')\n",
    "user_items= pd.read_parquet('data/clean_user_items.parquet')"
   ]
  },
  {
   "cell_type": "markdown",
   "metadata": {},
   "source": [
    "# 1- def developer( desarrollador : str ): Cantidad de items y porcentaje de contenido Free por año según empresa desarrolladora. Ejemplo de retorno:"
   ]
  },
  {
   "cell_type": "markdown",
   "metadata": {},
   "source": [
    "dataframe hecho para la funcion"
   ]
  },
  {
   "cell_type": "code",
   "execution_count": 20,
   "metadata": {},
   "outputs": [
    {
     "data": {
      "text/html": [
       "<div>\n",
       "<style scoped>\n",
       "    .dataframe tbody tr th:only-of-type {\n",
       "        vertical-align: middle;\n",
       "    }\n",
       "\n",
       "    .dataframe tbody tr th {\n",
       "        vertical-align: top;\n",
       "    }\n",
       "\n",
       "    .dataframe thead th {\n",
       "        text-align: right;\n",
       "    }\n",
       "</style>\n",
       "<table border=\"1\" class=\"dataframe\">\n",
       "  <thead>\n",
       "    <tr style=\"text-align: right;\">\n",
       "      <th></th>\n",
       "      <th>item_id</th>\n",
       "      <th>price</th>\n",
       "      <th>developer</th>\n",
       "      <th>release_year</th>\n",
       "    </tr>\n",
       "  </thead>\n",
       "  <tbody>\n",
       "    <tr>\n",
       "      <th>0</th>\n",
       "      <td>761140</td>\n",
       "      <td>4.99</td>\n",
       "      <td>Kotoshiro</td>\n",
       "      <td>2018</td>\n",
       "    </tr>\n",
       "    <tr>\n",
       "      <th>5</th>\n",
       "      <td>643980</td>\n",
       "      <td>0.00</td>\n",
       "      <td>Secret Level SRL</td>\n",
       "      <td>2018</td>\n",
       "    </tr>\n",
       "    <tr>\n",
       "      <th>9</th>\n",
       "      <td>670290</td>\n",
       "      <td>0.00</td>\n",
       "      <td>Poolians.com</td>\n",
       "      <td>2017</td>\n",
       "    </tr>\n",
       "    <tr>\n",
       "      <th>14</th>\n",
       "      <td>767400</td>\n",
       "      <td>0.99</td>\n",
       "      <td>彼岸领域</td>\n",
       "      <td>2017</td>\n",
       "    </tr>\n",
       "    <tr>\n",
       "      <th>17</th>\n",
       "      <td>772540</td>\n",
       "      <td>3.99</td>\n",
       "      <td>Trickjump Games Ltd</td>\n",
       "      <td>2018</td>\n",
       "    </tr>\n",
       "  </tbody>\n",
       "</table>\n",
       "</div>"
      ],
      "text/plain": [
       "    item_id  price            developer  release_year\n",
       "0    761140   4.99            Kotoshiro          2018\n",
       "5    643980   0.00     Secret Level SRL          2018\n",
       "9    670290   0.00         Poolians.com          2017\n",
       "14   767400   0.99                 彼岸领域          2017\n",
       "17   772540   3.99  Trickjump Games Ltd          2018"
      ]
     },
     "execution_count": 20,
     "metadata": {},
     "output_type": "execute_result"
    }
   ],
   "source": [
    "# extraemos las columnas del dataframe steam_games que vamos a necesitar\n",
    "funcion1=steam_games[['item_id', 'price', 'developer', 'release_year']]\n",
    "# eliminamos duplicados\n",
    "funcion1= funcion1.drop_duplicates()\n",
    "funcion1.head()"
   ]
  },
  {
   "cell_type": "code",
   "execution_count": 28,
   "metadata": {},
   "outputs": [
    {
     "data": {
      "text/plain": [
       "[{'Año': 1998, 'Cantidad_de_Items': 1, 'Porcentaje_Contenido_Free': '0.00%'},\n",
       " {'Año': 1999, 'Cantidad_de_Items': 1, 'Porcentaje_Contenido_Free': '0.00%'},\n",
       " {'Año': 2000, 'Cantidad_de_Items': 2, 'Porcentaje_Contenido_Free': '0.00%'},\n",
       " {'Año': 2001, 'Cantidad_de_Items': 1, 'Porcentaje_Contenido_Free': '0.00%'},\n",
       " {'Año': 2003, 'Cantidad_de_Items': 1, 'Porcentaje_Contenido_Free': '0.00%'},\n",
       " {'Año': 2004, 'Cantidad_de_Items': 5, 'Porcentaje_Contenido_Free': '0.00%'},\n",
       " {'Año': 2006, 'Cantidad_de_Items': 2, 'Porcentaje_Contenido_Free': '0.00%'},\n",
       " {'Año': 2007, 'Cantidad_de_Items': 3, 'Porcentaje_Contenido_Free': '33.33%'},\n",
       " {'Año': 2008, 'Cantidad_de_Items': 1, 'Porcentaje_Contenido_Free': '0.00%'},\n",
       " {'Año': 2009, 'Cantidad_de_Items': 1, 'Porcentaje_Contenido_Free': '0.00%'},\n",
       " {'Año': 2010, 'Cantidad_de_Items': 2, 'Porcentaje_Contenido_Free': '50.00%'},\n",
       " {'Año': 2011, 'Cantidad_de_Items': 1, 'Porcentaje_Contenido_Free': '0.00%'},\n",
       " {'Año': 2012, 'Cantidad_de_Items': 1, 'Porcentaje_Contenido_Free': '0.00%'},\n",
       " {'Año': 2016, 'Cantidad_de_Items': 1, 'Porcentaje_Contenido_Free': '100.00%'},\n",
       " {'Año': 2017, 'Cantidad_de_Items': 2, 'Porcentaje_Contenido_Free': '0.00%'}]"
      ]
     },
     "execution_count": 28,
     "metadata": {},
     "output_type": "execute_result"
    }
   ],
   "source": [
    "def developer_alternativo(desarrollador):\n",
    "    # filtramos dataframe para que solo devuelva la informacion del desarrollador dado\n",
    "    df_filtrado = funcion1[funcion1['developer'] == desarrollador].copy()\n",
    "\n",
    "    # agrupamos los datos\n",
    "    agrupado = df_filtrado.groupby('release_year').agg(\n",
    "        Cantidad_de_Items=pd.NamedAgg(column='item_id', aggfunc='count'),\n",
    "        Contenido_Free=pd.NamedAgg(column='price', aggfunc=lambda x: (x == 0).sum())\n",
    "    )\n",
    "\n",
    "    # calculamos el porcentaje de los juegos de contenido gratuito\n",
    "    agrupado['Porcentaje_Contenido_Free'] = (agrupado['Contenido_Free'] / agrupado['Cantidad_de_Items']) * 100\n",
    "\n",
    "    # formateamos el dataFrame \n",
    "    agrupado.reset_index(inplace=True)\n",
    "    agrupado.rename(columns={'release_year': 'Año'}, inplace=True)\n",
    "    agrupado['Porcentaje_Contenido_Free'] = agrupado['Porcentaje_Contenido_Free'].map('{:.2f}%'.format)\n",
    "    return agrupado[['Año', 'Cantidad_de_Items', 'Porcentaje_Contenido_Free']].to_dict(orient='records')\n",
    "\n",
    "\n",
    "developer_alternativo('Valve')\n"
   ]
  },
  {
   "cell_type": "markdown",
   "metadata": {},
   "source": [
    "# 2- def userdata(user_id:str): debe devolver la cantidad de dinero gastado por el usuario, el porcentaje de recomendacion en base a reviews.recommend y cantidad de items"
   ]
  },
  {
   "cell_type": "markdown",
   "metadata": {},
   "source": [
    "dataframe hecho para la funcion"
   ]
  },
  {
   "cell_type": "code",
   "execution_count": 8,
   "metadata": {},
   "outputs": [
    {
     "data": {
      "text/html": [
       "<div>\n",
       "<style scoped>\n",
       "    .dataframe tbody tr th:only-of-type {\n",
       "        vertical-align: middle;\n",
       "    }\n",
       "\n",
       "    .dataframe tbody tr th {\n",
       "        vertical-align: top;\n",
       "    }\n",
       "\n",
       "    .dataframe thead th {\n",
       "        text-align: right;\n",
       "    }\n",
       "</style>\n",
       "<table border=\"1\" class=\"dataframe\">\n",
       "  <thead>\n",
       "    <tr style=\"text-align: right;\">\n",
       "      <th></th>\n",
       "      <th>item_id</th>\n",
       "      <th>user_id</th>\n",
       "      <th>recommend</th>\n",
       "      <th>genres</th>\n",
       "      <th>price</th>\n",
       "    </tr>\n",
       "  </thead>\n",
       "  <tbody>\n",
       "    <tr>\n",
       "      <th>0</th>\n",
       "      <td>1250</td>\n",
       "      <td>76561197970982479</td>\n",
       "      <td>True</td>\n",
       "      <td>Action</td>\n",
       "      <td>19.99</td>\n",
       "    </tr>\n",
       "    <tr>\n",
       "      <th>1</th>\n",
       "      <td>1250</td>\n",
       "      <td>death-hunter</td>\n",
       "      <td>True</td>\n",
       "      <td>Action</td>\n",
       "      <td>19.99</td>\n",
       "    </tr>\n",
       "    <tr>\n",
       "      <th>2</th>\n",
       "      <td>1250</td>\n",
       "      <td>DJKamBer</td>\n",
       "      <td>True</td>\n",
       "      <td>Action</td>\n",
       "      <td>19.99</td>\n",
       "    </tr>\n",
       "    <tr>\n",
       "      <th>3</th>\n",
       "      <td>1250</td>\n",
       "      <td>diego9031</td>\n",
       "      <td>True</td>\n",
       "      <td>Action</td>\n",
       "      <td>19.99</td>\n",
       "    </tr>\n",
       "    <tr>\n",
       "      <th>4</th>\n",
       "      <td>1250</td>\n",
       "      <td>76561198081962345</td>\n",
       "      <td>True</td>\n",
       "      <td>Action</td>\n",
       "      <td>19.99</td>\n",
       "    </tr>\n",
       "  </tbody>\n",
       "</table>\n",
       "</div>"
      ],
      "text/plain": [
       "   item_id            user_id  recommend  genres  price\n",
       "0     1250  76561197970982479       True  Action  19.99\n",
       "1     1250       death-hunter       True  Action  19.99\n",
       "2     1250           DJKamBer       True  Action  19.99\n",
       "3     1250          diego9031       True  Action  19.99\n",
       "4     1250  76561198081962345       True  Action  19.99"
      ]
     },
     "execution_count": 8,
     "metadata": {},
     "output_type": "execute_result"
    }
   ],
   "source": [
    "# extraemos las columna del dataframe steam_games que vamos a necesitar para la funcion\n",
    "data_games=steam_games[['item_id', 'genres', 'price']]\n",
    "# extraemos las columnas del dataframe user_reviews que vamos a necesitar para la funcion\n",
    "data_reviews= user_reviews[['item_id','user_id', 'recommend']]\n",
    "# con los datos recogidos se crea el dataframe con el que vamos a correr la funcion\n",
    "funcion2= data_reviews.merge(data_games, on='item_id')\n",
    "# eliminamos los duplicados\n",
    "funcion2= funcion2.drop_duplicates()\n",
    "# reiniciamos los indices del dataframe\n",
    "funcion2.reset_index(drop=True, inplace=True)\n",
    "funcion2.head()"
   ]
  },
  {
   "cell_type": "code",
   "execution_count": 9,
   "metadata": {},
   "outputs": [
    {
     "data": {
      "text/plain": [
       "{'usuario': 'snakedog',\n",
       " 'dinero gastado': '84.93 USD',\n",
       " 'porcentaje de recomendacion': '277.78%',\n",
       " 'cantidad de items': 9}"
      ]
     },
     "execution_count": 9,
     "metadata": {},
     "output_type": "execute_result"
    }
   ],
   "source": [
    "def userdata(user_id:str):\n",
    "    # filtramos el dataframe para obtener solo la informacion del usuario dado \n",
    "    df_filtrado = funcion2.loc[funcion2[\"user_id\"]== user_id]\n",
    "    # contamos la cantidad de items unicos por usuario\n",
    "    total_items= df_filtrado['item_id'].nunique()\n",
    "    # calculamos el porcentaje de recomendacion\n",
    "    porcentaje_recomendacion= round((df_filtrado['recommend'].sum() / total_items) * 100, 2)\n",
    "    # calculamos la cantidad de dinero que el usuario ha gastado en items\n",
    "    cantidad_dinero= round((df_filtrado['price'].sum()), 4)\n",
    "    return {f'usuario':user_id, 'dinero gastado':f'{cantidad_dinero} USD', 'porcentaje de recomendacion':f'{porcentaje_recomendacion}%', 'cantidad de items':total_items}\n",
    "\n",
    "userdata('snakedog')"
   ]
  },
  {
   "cell_type": "markdown",
   "metadata": {},
   "source": [
    "# 3- def UserForGenre(genero:str): debe devolver el usuario que acumula mas horas jugadas para el genero dado y una lista de la acumulacion de horas jugadas por año de lanzamiento"
   ]
  },
  {
   "cell_type": "markdown",
   "metadata": {},
   "source": [
    "dataframe hecho para la funcion"
   ]
  },
  {
   "cell_type": "code",
   "execution_count": 10,
   "metadata": {},
   "outputs": [
    {
     "data": {
      "text/html": [
       "<div>\n",
       "<style scoped>\n",
       "    .dataframe tbody tr th:only-of-type {\n",
       "        vertical-align: middle;\n",
       "    }\n",
       "\n",
       "    .dataframe tbody tr th {\n",
       "        vertical-align: top;\n",
       "    }\n",
       "\n",
       "    .dataframe thead th {\n",
       "        text-align: right;\n",
       "    }\n",
       "</style>\n",
       "<table border=\"1\" class=\"dataframe\">\n",
       "  <thead>\n",
       "    <tr style=\"text-align: right;\">\n",
       "      <th></th>\n",
       "      <th>user_id</th>\n",
       "      <th>playtime_forever</th>\n",
       "      <th>genres</th>\n",
       "      <th>release_year</th>\n",
       "    </tr>\n",
       "  </thead>\n",
       "  <tbody>\n",
       "    <tr>\n",
       "      <th>0</th>\n",
       "      <td>76561197970982479</td>\n",
       "      <td>6.0</td>\n",
       "      <td>Action</td>\n",
       "      <td>2000</td>\n",
       "    </tr>\n",
       "    <tr>\n",
       "      <th>1</th>\n",
       "      <td>76561198011743390</td>\n",
       "      <td>93.0</td>\n",
       "      <td>Action</td>\n",
       "      <td>2000</td>\n",
       "    </tr>\n",
       "    <tr>\n",
       "      <th>2</th>\n",
       "      <td>76561197967794920</td>\n",
       "      <td>108.0</td>\n",
       "      <td>Action</td>\n",
       "      <td>2000</td>\n",
       "    </tr>\n",
       "    <tr>\n",
       "      <th>3</th>\n",
       "      <td>MyCuntDotComDotAu</td>\n",
       "      <td>328.0</td>\n",
       "      <td>Action</td>\n",
       "      <td>2000</td>\n",
       "    </tr>\n",
       "    <tr>\n",
       "      <th>4</th>\n",
       "      <td>76561198019743758</td>\n",
       "      <td>580.0</td>\n",
       "      <td>Action</td>\n",
       "      <td>2000</td>\n",
       "    </tr>\n",
       "  </tbody>\n",
       "</table>\n",
       "</div>"
      ],
      "text/plain": [
       "             user_id  playtime_forever  genres  release_year\n",
       "0  76561197970982479               6.0  Action          2000\n",
       "1  76561198011743390              93.0  Action          2000\n",
       "2  76561197967794920             108.0  Action          2000\n",
       "3  MyCuntDotComDotAu             328.0  Action          2000\n",
       "4  76561198019743758             580.0  Action          2000"
      ]
     },
     "execution_count": 10,
     "metadata": {},
     "output_type": "execute_result"
    }
   ],
   "source": [
    "# extraemos las columnas del dataframe steam_games que vamos a necesitar para la funcion\n",
    "data_games=steam_games[['item_id', 'genres', 'release_year']]\n",
    "# extraemos las columnas del dataframe user_items que vamos a necesitar para la funcion\n",
    "data_items= user_items[['item_id','user_id', 'playtime_forever']]\n",
    "# con los datos extraidos se crea el dataframe con el que vamos a correr la funcion\n",
    "funcion3= data_items.merge(data_games, on='item_id')\n",
    "# eliminamos columna que no vamos a necesitar\n",
    "funcion3= funcion3.drop('item_id', axis=1)\n",
    "# eliminamos duplicados\n",
    "funcion3= funcion3.drop_duplicates()\n",
    "# reseteamos indices\n",
    "funcion3.reset_index(drop=True, inplace=True)\n",
    "funcion3.head()"
   ]
  },
  {
   "cell_type": "code",
   "execution_count": 11,
   "metadata": {},
   "outputs": [],
   "source": [
    "# cambiamos tipo de dato a int\n",
    "funcion3['playtime_forever']= funcion3['playtime_forever'].astype(int)"
   ]
  },
  {
   "cell_type": "code",
   "execution_count": 12,
   "metadata": {},
   "outputs": [
    {
     "data": {
      "text/plain": [
       "{'Usuario con más horas jugadas para Género Adventure': 'NooodleBox',\n",
       " 'Horas jugadas': [{'Año': 1983, 'Horas': 3},\n",
       "  {'Año': 1984, 'Horas': 12},\n",
       "  {'Año': 1987, 'Horas': 711},\n",
       "  {'Año': 1988, 'Horas': 509},\n",
       "  {'Año': 1989, 'Horas': 32},\n",
       "  {'Año': 1992, 'Horas': 150},\n",
       "  {'Año': 1993, 'Horas': 269},\n",
       "  {'Año': 1994, 'Horas': 41},\n",
       "  {'Año': 1996, 'Horas': 1564},\n",
       "  {'Año': 1997, 'Horas': 4780},\n",
       "  {'Año': 1998, 'Horas': 766},\n",
       "  {'Año': 1999, 'Horas': 1170},\n",
       "  {'Año': 2001, 'Horas': 195},\n",
       "  {'Año': 2002, 'Horas': 530},\n",
       "  {'Año': 2003, 'Horas': 79598},\n",
       "  {'Año': 2004, 'Horas': 1378},\n",
       "  {'Año': 2005, 'Horas': 883},\n",
       "  {'Año': 2006, 'Horas': 3161},\n",
       "  {'Año': 2007, 'Horas': 6266},\n",
       "  {'Año': 2008, 'Horas': 54077},\n",
       "  {'Año': 2009, 'Horas': 79782},\n",
       "  {'Año': 2010, 'Horas': 380808},\n",
       "  {'Año': 2011, 'Horas': 3902786},\n",
       "  {'Año': 2012, 'Horas': 1001606},\n",
       "  {'Año': 2013, 'Horas': 2597554},\n",
       "  {'Año': 2014, 'Horas': 1253938},\n",
       "  {'Año': 2015, 'Horas': 3698037},\n",
       "  {'Año': 2016, 'Horas': 1200314},\n",
       "  {'Año': 2017, 'Horas': 1922723}]}"
      ]
     },
     "execution_count": 12,
     "metadata": {},
     "output_type": "execute_result"
    }
   ],
   "source": [
    "def UserForGenreee(genero:str):\n",
    "  # filtramos dataframe para obtener la informacion del genero especificado\n",
    "  generos = funcion3[funcion3['genres'].str.contains(genero)]\n",
    "\n",
    "  # encontramos al usuario con mas horas jugadas aplicando funcion lambda\n",
    "  usuario_max_horas = generos.assign(\n",
    "    total_horas=lambda x: x['playtime_forever'].groupby(x['user_id']).transform('sum')\n",
    "  ).sort_values('total_horas', ascending=False).iloc[0]['user_id']\n",
    "\n",
    "  # Obtenemos las horas jugadas por año\n",
    "  horas_por_año = generos.groupby('release_year')['playtime_forever'].sum().reset_index(name='Horas')\n",
    "  horas_por_año= horas_por_año.rename(columns={'release_year':'Año'})\n",
    "  # Convertir a una lista de diccionarios\n",
    "  horas_lista = horas_por_año.to_dict('records')\n",
    "\n",
    "  \n",
    "  return {\n",
    "    \"Usuario con más horas jugadas para Género \" + genero: usuario_max_horas,\n",
    "    \"Horas jugadas\": horas_lista\n",
    "  }\n",
    "UserForGenreee('Adventure')"
   ]
  },
  {
   "cell_type": "markdown",
   "metadata": {},
   "source": [
    "# 4- def best_developer_year(anio:int): devuelve el top 3 de los desarrolladores con juegos mas recomendados por usuarios para el anio dado. (reviews.recommend= True y comentarios positivos)"
   ]
  },
  {
   "cell_type": "markdown",
   "metadata": {},
   "source": [
    "dataframe hecho para la funcion"
   ]
  },
  {
   "cell_type": "code",
   "execution_count": 13,
   "metadata": {},
   "outputs": [
    {
     "data": {
      "text/html": [
       "<div>\n",
       "<style scoped>\n",
       "    .dataframe tbody tr th:only-of-type {\n",
       "        vertical-align: middle;\n",
       "    }\n",
       "\n",
       "    .dataframe tbody tr th {\n",
       "        vertical-align: top;\n",
       "    }\n",
       "\n",
       "    .dataframe thead th {\n",
       "        text-align: right;\n",
       "    }\n",
       "</style>\n",
       "<table border=\"1\" class=\"dataframe\">\n",
       "  <thead>\n",
       "    <tr style=\"text-align: right;\">\n",
       "      <th></th>\n",
       "      <th>sentiment_analysis</th>\n",
       "      <th>recommend</th>\n",
       "      <th>developer</th>\n",
       "      <th>release_year</th>\n",
       "    </tr>\n",
       "  </thead>\n",
       "  <tbody>\n",
       "    <tr>\n",
       "      <th>0</th>\n",
       "      <td>2</td>\n",
       "      <td>True</td>\n",
       "      <td>Tripwire Interactive</td>\n",
       "      <td>2009</td>\n",
       "    </tr>\n",
       "    <tr>\n",
       "      <th>1</th>\n",
       "      <td>1</td>\n",
       "      <td>True</td>\n",
       "      <td>Tripwire Interactive</td>\n",
       "      <td>2009</td>\n",
       "    </tr>\n",
       "    <tr>\n",
       "      <th>2</th>\n",
       "      <td>0</td>\n",
       "      <td>True</td>\n",
       "      <td>Tripwire Interactive</td>\n",
       "      <td>2009</td>\n",
       "    </tr>\n",
       "    <tr>\n",
       "      <th>3</th>\n",
       "      <td>0</td>\n",
       "      <td>False</td>\n",
       "      <td>Tripwire Interactive</td>\n",
       "      <td>2009</td>\n",
       "    </tr>\n",
       "    <tr>\n",
       "      <th>4</th>\n",
       "      <td>2</td>\n",
       "      <td>False</td>\n",
       "      <td>Tripwire Interactive</td>\n",
       "      <td>2009</td>\n",
       "    </tr>\n",
       "  </tbody>\n",
       "</table>\n",
       "</div>"
      ],
      "text/plain": [
       "   sentiment_analysis  recommend             developer  release_year\n",
       "0                   2       True  Tripwire Interactive          2009\n",
       "1                   1       True  Tripwire Interactive          2009\n",
       "2                   0       True  Tripwire Interactive          2009\n",
       "3                   0      False  Tripwire Interactive          2009\n",
       "4                   2      False  Tripwire Interactive          2009"
      ]
     },
     "execution_count": 13,
     "metadata": {},
     "output_type": "execute_result"
    }
   ],
   "source": [
    "# extraemos las columna del dataframe steam_games que vamos a necesitar para la funcion\n",
    "data_games= steam_games[['item_id', 'developer', 'release_year']]\n",
    "# extraemos las columnas del dataframe user_reviews que vamos a necesitar para la funcion\n",
    "data_reviews= user_reviews[['item_id', 'sentiment_analysis', 'recommend']]\n",
    "# con los datos escogidos se crea el dataframe con el que vamos a correr la funcion\n",
    "funcion4= data_reviews.merge(data_games, on='item_id')\n",
    "# eliminamos columna que no vamos a necesitar\n",
    "funcion4= funcion4.drop('item_id', axis=1)\n",
    "# eliminamos los duplicados\n",
    "funcion4= funcion4.drop_duplicates()\n",
    "# reseteamos los indices\n",
    "funcion4.reset_index(drop=True, inplace=True)\n",
    "funcion4.head()\n"
   ]
  },
  {
   "cell_type": "code",
   "execution_count": 14,
   "metadata": {},
   "outputs": [
    {
     "data": {
      "text/plain": [
       "[{'Puesto 1': '2K Czech,Feral Interactive (Mac)',\n",
       "  'Puesto 2': 'id Software',\n",
       "  'Puesto 3': 'Eden Studios'}]"
      ]
     },
     "execution_count": 14,
     "metadata": {},
     "output_type": "execute_result"
    }
   ],
   "source": [
    "def best_developer_year(year: int):\n",
    "    # filtramos dataframe para obtener solo las recomendaciones del año dado\n",
    "    df_filtrado= funcion4[(funcion4['release_year']== year) & (funcion4['recommend']==True)]\n",
    "    # contamos las recomendaciones por desarrollador\n",
    "    conteo_recomendaciones= df_filtrado['developer'].value_counts()\n",
    "    # obtenemos top 3 de los desarrolladores\n",
    "    top_3_best_developers= conteo_recomendaciones.nlargest(3).index.tolist()\n",
    "    return [{'Puesto 1':top_3_best_developers[0], 'Puesto 2':top_3_best_developers[1], 'Puesto 3':top_3_best_developers[2]}]\n",
    "best_developer_year(2011)"
   ]
  },
  {
   "cell_type": "markdown",
   "metadata": {},
   "source": [
    "# 5- def developer_reviews_analysis( desarrolladora : str ): Según el desarrollador, se devuelve un diccionario con el nombre del desarrollador como llave y una lista con la cantidad total de registros de reseñas de usuarios que se encuentren categorizados con un análisis de sentimiento como valor positivo o negativo."
   ]
  },
  {
   "cell_type": "markdown",
   "metadata": {},
   "source": [
    "dataframe hecho para la funcion"
   ]
  },
  {
   "cell_type": "code",
   "execution_count": 30,
   "metadata": {},
   "outputs": [
    {
     "data": {
      "text/html": [
       "<div>\n",
       "<style scoped>\n",
       "    .dataframe tbody tr th:only-of-type {\n",
       "        vertical-align: middle;\n",
       "    }\n",
       "\n",
       "    .dataframe tbody tr th {\n",
       "        vertical-align: top;\n",
       "    }\n",
       "\n",
       "    .dataframe thead th {\n",
       "        text-align: right;\n",
       "    }\n",
       "</style>\n",
       "<table border=\"1\" class=\"dataframe\">\n",
       "  <thead>\n",
       "    <tr style=\"text-align: right;\">\n",
       "      <th></th>\n",
       "      <th>sentiment_analysis</th>\n",
       "      <th>review</th>\n",
       "      <th>developer</th>\n",
       "      <th>release_year</th>\n",
       "    </tr>\n",
       "  </thead>\n",
       "  <tbody>\n",
       "    <tr>\n",
       "      <th>0</th>\n",
       "      <td>2</td>\n",
       "      <td>Simple yet with great replayability. In my opi...</td>\n",
       "      <td>Tripwire Interactive</td>\n",
       "      <td>2009</td>\n",
       "    </tr>\n",
       "    <tr>\n",
       "      <th>1</th>\n",
       "      <td>2</td>\n",
       "      <td>Amazing, Non-stop action of blowing stuff to b...</td>\n",
       "      <td>Tripwire Interactive</td>\n",
       "      <td>2009</td>\n",
       "    </tr>\n",
       "    <tr>\n",
       "      <th>2</th>\n",
       "      <td>2</td>\n",
       "      <td>Compared to Left 4 Dead 2, this game REALLY gi...</td>\n",
       "      <td>Tripwire Interactive</td>\n",
       "      <td>2009</td>\n",
       "    </tr>\n",
       "    <tr>\n",
       "      <th>3</th>\n",
       "      <td>1</td>\n",
       "      <td>Jogo ♥♥♥♥.</td>\n",
       "      <td>Tripwire Interactive</td>\n",
       "      <td>2009</td>\n",
       "    </tr>\n",
       "    <tr>\n",
       "      <th>4</th>\n",
       "      <td>1</td>\n",
       "      <td>cara nas imagens esse jogo da pouco de medo ma...</td>\n",
       "      <td>Tripwire Interactive</td>\n",
       "      <td>2009</td>\n",
       "    </tr>\n",
       "  </tbody>\n",
       "</table>\n",
       "</div>"
      ],
      "text/plain": [
       "   sentiment_analysis                                             review  \\\n",
       "0                   2  Simple yet with great replayability. In my opi...   \n",
       "1                   2  Amazing, Non-stop action of blowing stuff to b...   \n",
       "2                   2  Compared to Left 4 Dead 2, this game REALLY gi...   \n",
       "3                   1                                         Jogo ♥♥♥♥.   \n",
       "4                   1  cara nas imagens esse jogo da pouco de medo ma...   \n",
       "\n",
       "              developer  release_year  \n",
       "0  Tripwire Interactive          2009  \n",
       "1  Tripwire Interactive          2009  \n",
       "2  Tripwire Interactive          2009  \n",
       "3  Tripwire Interactive          2009  \n",
       "4  Tripwire Interactive          2009  "
      ]
     },
     "execution_count": 30,
     "metadata": {},
     "output_type": "execute_result"
    }
   ],
   "source": [
    "# extraemos las columna del dataframe steam_games que vamos a necesitar para la funcion\n",
    "data_games=steam_games[['item_id','developer','release_year']]\n",
    "# extraemos las columnas del dataframe user_reviews que vamos a necesitar para la funcion\n",
    "data_reviews= user_reviews[['item_id', 'sentiment_analysis', 'review']]\n",
    "# con los datos escogidos se crea el dataframe con el que vamos a correr la funcion\n",
    "funcion5= data_reviews.merge(data_games, on='item_id')\n",
    "# eliminamos columna que no vamos a necesitar\n",
    "funcion5= funcion5.drop('item_id', axis=1)\n",
    "# eliminamos los duplicados\n",
    "funcion5= funcion5.drop_duplicates()\n",
    "# reseteamos los indices\n",
    "funcion5.reset_index(drop=True, inplace=True)\n",
    "funcion5.head()\n"
   ]
  },
  {
   "cell_type": "code",
   "execution_count": 31,
   "metadata": {},
   "outputs": [
    {
     "data": {
      "text/plain": [
       "{'Valve': ['Negativo: 1545', 'Positivo:4736']}"
      ]
     },
     "execution_count": 31,
     "metadata": {},
     "output_type": "execute_result"
    }
   ],
   "source": [
    "def developer_reviews_analysis(desarrolladora:str):\n",
    "    # filtramos dataframe para obtener solo la informacion del desarrollador dado\n",
    "    df_filtrado= funcion5[funcion5['developer']==desarrolladora]\n",
    "    # contamos la cantidad de reseñas para cada tipo de sentimiento \n",
    "    sentiment_count = df_filtrado['sentiment_analysis'].value_counts().to_dict()\n",
    "    # resultado a devolver\n",
    "    resultado= {desarrolladora: ['Negativo: ' + str(sentiment_count.get(0,0)), 'Positivo:' + str(sentiment_count.get(2,0))]}\n",
    "    return resultado\n",
    "\n",
    "developer_reviews_analysis('Valve')"
   ]
  },
  {
   "cell_type": "markdown",
   "metadata": {},
   "source": [
    "# guardamos archivos\n",
    "\n",
    "guardamos los archivos en formato parquet para cada una de las funciones creadas\n"
   ]
  },
  {
   "cell_type": "code",
   "execution_count": 29,
   "metadata": {},
   "outputs": [],
   "source": [
    "funcion1.to_parquet('data/developer.parquet')\n",
    "funcion2.to_parquet('data/userdata.parquet')\n",
    "funcion3.to_parquet('data/UserForGenre.parquet')\n",
    "funcion4.to_parquet('data/best_developer_year.parquet')\n",
    "funcion5.to_parquet('data/developer_reviews_analysis.parquet')"
   ]
  }
 ],
 "metadata": {
  "kernelspec": {
   "display_name": "Python 3",
   "language": "python",
   "name": "python3"
  },
  "language_info": {
   "codemirror_mode": {
    "name": "ipython",
    "version": 3
   },
   "file_extension": ".py",
   "mimetype": "text/x-python",
   "name": "python",
   "nbconvert_exporter": "python",
   "pygments_lexer": "ipython3",
   "version": "3.11.3"
  }
 },
 "nbformat": 4,
 "nbformat_minor": 2
}
