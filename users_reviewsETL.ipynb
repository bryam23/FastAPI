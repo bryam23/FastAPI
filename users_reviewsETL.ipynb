{
 "cells": [
  {
   "cell_type": "code",
   "execution_count": 36,
   "metadata": {},
   "outputs": [],
   "source": [
    "# importamos librerias que vamos a necesitar\n",
    "import pandas as pd \n",
    "import ast\n",
    "import json\n",
    "from textblob import TextBlob"
   ]
  },
  {
   "cell_type": "markdown",
   "metadata": {},
   "source": [
    "Se descomprimen cada uno de los archivos previo a importarlos con pandas, quedamos a disposicion de su archivo json con el cual estaremos realizando el proceso de ETL"
   ]
  },
  {
   "cell_type": "code",
   "execution_count": 37,
   "metadata": {},
   "outputs": [
    {
     "data": {
      "text/html": [
       "<div>\n",
       "<style scoped>\n",
       "    .dataframe tbody tr th:only-of-type {\n",
       "        vertical-align: middle;\n",
       "    }\n",
       "\n",
       "    .dataframe tbody tr th {\n",
       "        vertical-align: top;\n",
       "    }\n",
       "\n",
       "    .dataframe thead th {\n",
       "        text-align: right;\n",
       "    }\n",
       "</style>\n",
       "<table border=\"1\" class=\"dataframe\">\n",
       "  <thead>\n",
       "    <tr style=\"text-align: right;\">\n",
       "      <th></th>\n",
       "      <th>user_id</th>\n",
       "      <th>user_url</th>\n",
       "      <th>reviews</th>\n",
       "    </tr>\n",
       "  </thead>\n",
       "  <tbody>\n",
       "    <tr>\n",
       "      <th>0</th>\n",
       "      <td>76561197970982479</td>\n",
       "      <td>http://steamcommunity.com/profiles/76561197970...</td>\n",
       "      <td>[{'funny': '', 'posted': 'Posted November 5, 2...</td>\n",
       "    </tr>\n",
       "    <tr>\n",
       "      <th>1</th>\n",
       "      <td>js41637</td>\n",
       "      <td>http://steamcommunity.com/id/js41637</td>\n",
       "      <td>[{'funny': '', 'posted': 'Posted June 24, 2014...</td>\n",
       "    </tr>\n",
       "    <tr>\n",
       "      <th>2</th>\n",
       "      <td>evcentric</td>\n",
       "      <td>http://steamcommunity.com/id/evcentric</td>\n",
       "      <td>[{'funny': '', 'posted': 'Posted February 3.',...</td>\n",
       "    </tr>\n",
       "    <tr>\n",
       "      <th>3</th>\n",
       "      <td>doctr</td>\n",
       "      <td>http://steamcommunity.com/id/doctr</td>\n",
       "      <td>[{'funny': '', 'posted': 'Posted October 14, 2...</td>\n",
       "    </tr>\n",
       "    <tr>\n",
       "      <th>4</th>\n",
       "      <td>maplemage</td>\n",
       "      <td>http://steamcommunity.com/id/maplemage</td>\n",
       "      <td>[{'funny': '3 people found this review funny',...</td>\n",
       "    </tr>\n",
       "    <tr>\n",
       "      <th>...</th>\n",
       "      <td>...</td>\n",
       "      <td>...</td>\n",
       "      <td>...</td>\n",
       "    </tr>\n",
       "    <tr>\n",
       "      <th>25794</th>\n",
       "      <td>76561198306599751</td>\n",
       "      <td>http://steamcommunity.com/profiles/76561198306...</td>\n",
       "      <td>[{'funny': '', 'posted': 'Posted May 31.', 'la...</td>\n",
       "    </tr>\n",
       "    <tr>\n",
       "      <th>25795</th>\n",
       "      <td>Ghoustik</td>\n",
       "      <td>http://steamcommunity.com/id/Ghoustik</td>\n",
       "      <td>[{'funny': '', 'posted': 'Posted June 17.', 'l...</td>\n",
       "    </tr>\n",
       "    <tr>\n",
       "      <th>25796</th>\n",
       "      <td>76561198310819422</td>\n",
       "      <td>http://steamcommunity.com/profiles/76561198310...</td>\n",
       "      <td>[{'funny': '1 person found this review funny',...</td>\n",
       "    </tr>\n",
       "    <tr>\n",
       "      <th>25797</th>\n",
       "      <td>76561198312638244</td>\n",
       "      <td>http://steamcommunity.com/profiles/76561198312...</td>\n",
       "      <td>[{'funny': '', 'posted': 'Posted July 21.', 'l...</td>\n",
       "    </tr>\n",
       "    <tr>\n",
       "      <th>25798</th>\n",
       "      <td>LydiaMorley</td>\n",
       "      <td>http://steamcommunity.com/id/LydiaMorley</td>\n",
       "      <td>[{'funny': '1 person found this review funny',...</td>\n",
       "    </tr>\n",
       "  </tbody>\n",
       "</table>\n",
       "<p>25799 rows × 3 columns</p>\n",
       "</div>"
      ],
      "text/plain": [
       "                 user_id                                           user_url  \\\n",
       "0      76561197970982479  http://steamcommunity.com/profiles/76561197970...   \n",
       "1                js41637               http://steamcommunity.com/id/js41637   \n",
       "2              evcentric             http://steamcommunity.com/id/evcentric   \n",
       "3                  doctr                 http://steamcommunity.com/id/doctr   \n",
       "4              maplemage             http://steamcommunity.com/id/maplemage   \n",
       "...                  ...                                                ...   \n",
       "25794  76561198306599751  http://steamcommunity.com/profiles/76561198306...   \n",
       "25795           Ghoustik              http://steamcommunity.com/id/Ghoustik   \n",
       "25796  76561198310819422  http://steamcommunity.com/profiles/76561198310...   \n",
       "25797  76561198312638244  http://steamcommunity.com/profiles/76561198312...   \n",
       "25798        LydiaMorley           http://steamcommunity.com/id/LydiaMorley   \n",
       "\n",
       "                                                 reviews  \n",
       "0      [{'funny': '', 'posted': 'Posted November 5, 2...  \n",
       "1      [{'funny': '', 'posted': 'Posted June 24, 2014...  \n",
       "2      [{'funny': '', 'posted': 'Posted February 3.',...  \n",
       "3      [{'funny': '', 'posted': 'Posted October 14, 2...  \n",
       "4      [{'funny': '3 people found this review funny',...  \n",
       "...                                                  ...  \n",
       "25794  [{'funny': '', 'posted': 'Posted May 31.', 'la...  \n",
       "25795  [{'funny': '', 'posted': 'Posted June 17.', 'l...  \n",
       "25796  [{'funny': '1 person found this review funny',...  \n",
       "25797  [{'funny': '', 'posted': 'Posted July 21.', 'l...  \n",
       "25798  [{'funny': '1 person found this review funny',...  \n",
       "\n",
       "[25799 rows x 3 columns]"
      ]
     },
     "execution_count": 37,
     "metadata": {},
     "output_type": "execute_result"
    }
   ],
   "source": [
    "# lista vacia donde ingresaremos los datos del archivo\n",
    "lista_vacia=[]\n",
    "# abrimos archivo json\n",
    "with open('data/australian_user_reviews.json','r',encoding='utf-8') as archivo:\n",
    "    # creamos un bucle for para iterar e ingresar los datos dentro de la lista vacia\n",
    "    for line in archivo.readlines():\n",
    "        lista_vacia.append(ast.literal_eval(line))\n",
    "\n",
    "# creamos un dataframe con los datos ingresados en la lista\n",
    "user_reviews= pd.DataFrame(lista_vacia)\n",
    "user_reviews"
   ]
  },
  {
   "cell_type": "code",
   "execution_count": 38,
   "metadata": {},
   "outputs": [
    {
     "name": "stdout",
     "output_type": "stream",
     "text": [
      "<class 'pandas.core.frame.DataFrame'>\n",
      "RangeIndex: 25799 entries, 0 to 25798\n",
      "Data columns (total 3 columns):\n",
      " #   Column    Non-Null Count  Dtype \n",
      "---  ------    --------------  ----- \n",
      " 0   user_id   25799 non-null  object\n",
      " 1   user_url  25799 non-null  object\n",
      " 2   reviews   25799 non-null  object\n",
      "dtypes: object(3)\n",
      "memory usage: 604.8+ KB\n"
     ]
    }
   ],
   "source": [
    "# informacion general del dataframe\n",
    "user_reviews.info()"
   ]
  },
  {
   "cell_type": "code",
   "execution_count": 39,
   "metadata": {},
   "outputs": [
    {
     "data": {
      "text/plain": [
       "0        76561197970982479\n",
       "1                  js41637\n",
       "2                evcentric\n",
       "3                    doctr\n",
       "4                maplemage\n",
       "               ...        \n",
       "25794    76561198306599751\n",
       "25795             Ghoustik\n",
       "25796    76561198310819422\n",
       "25797    76561198312638244\n",
       "25798          LydiaMorley\n",
       "Name: user_id, Length: 25799, dtype: object"
      ]
     },
     "execution_count": 39,
     "metadata": {},
     "output_type": "execute_result"
    }
   ],
   "source": [
    "# data de la columna 'user_id'\n",
    "user_reviews['user_id']"
   ]
  },
  {
   "cell_type": "code",
   "execution_count": 40,
   "metadata": {},
   "outputs": [
    {
     "name": "stdout",
     "output_type": "stream",
     "text": [
      "valores nulos columna user_id: 0\n"
     ]
    }
   ],
   "source": [
    "#contamos valores nulos de la columna 'user_id'\n",
    "nulos_user_id= user_reviews['user_id'].isnull().sum()\n",
    "print(f'valores nulos columna user_id: {nulos_user_id}')"
   ]
  },
  {
   "cell_type": "code",
   "execution_count": 41,
   "metadata": {},
   "outputs": [
    {
     "data": {
      "text/plain": [
       "0        http://steamcommunity.com/profiles/76561197970...\n",
       "1                     http://steamcommunity.com/id/js41637\n",
       "2                   http://steamcommunity.com/id/evcentric\n",
       "3                       http://steamcommunity.com/id/doctr\n",
       "4                   http://steamcommunity.com/id/maplemage\n",
       "                               ...                        \n",
       "25794    http://steamcommunity.com/profiles/76561198306...\n",
       "25795                http://steamcommunity.com/id/Ghoustik\n",
       "25796    http://steamcommunity.com/profiles/76561198310...\n",
       "25797    http://steamcommunity.com/profiles/76561198312...\n",
       "25798             http://steamcommunity.com/id/LydiaMorley\n",
       "Name: user_url, Length: 25799, dtype: object"
      ]
     },
     "execution_count": 41,
     "metadata": {},
     "output_type": "execute_result"
    }
   ],
   "source": [
    "#data de la columna 'user_url'\n",
    "user_reviews['user_url']"
   ]
  },
  {
   "cell_type": "code",
   "execution_count": 42,
   "metadata": {},
   "outputs": [
    {
     "name": "stdout",
     "output_type": "stream",
     "text": [
      "valores nulos columna user_url: 0\n"
     ]
    }
   ],
   "source": [
    "#contamos valores nulos de la columna 'user_url'\n",
    "nulos_user_url= user_reviews['user_url'].isnull().sum()\n",
    "print(f'valores nulos columna user_url: {nulos_user_url}')"
   ]
  },
  {
   "cell_type": "code",
   "execution_count": 43,
   "metadata": {},
   "outputs": [],
   "source": [
    "# eliminamos columnas 'user_url' ya que no la necesitaremos\n",
    "user_reviews= user_reviews.drop(columns=['user_url'], axis=1)"
   ]
  },
  {
   "cell_type": "code",
   "execution_count": 44,
   "metadata": {},
   "outputs": [
    {
     "data": {
      "text/plain": [
       "[{'funny': '',\n",
       "  'posted': 'Posted November 5, 2011.',\n",
       "  'last_edited': '',\n",
       "  'item_id': '1250',\n",
       "  'helpful': 'No ratings yet',\n",
       "  'recommend': True,\n",
       "  'review': 'Simple yet with great replayability. In my opinion does \"zombie\" hordes and team work better than left 4 dead plus has a global leveling system. Alot of down to earth \"zombie\" splattering fun for the whole family. Amazed this sort of FPS is so rare.'},\n",
       " {'funny': '',\n",
       "  'posted': 'Posted July 15, 2011.',\n",
       "  'last_edited': '',\n",
       "  'item_id': '22200',\n",
       "  'helpful': 'No ratings yet',\n",
       "  'recommend': True,\n",
       "  'review': \"It's unique and worth a playthrough.\"},\n",
       " {'funny': '',\n",
       "  'posted': 'Posted April 21, 2011.',\n",
       "  'last_edited': '',\n",
       "  'item_id': '43110',\n",
       "  'helpful': 'No ratings yet',\n",
       "  'recommend': True,\n",
       "  'review': 'Great atmosphere. The gunplay can be a bit chunky at times but at the end of the day this game is definitely worth it and I hope they do a sequel...so buy the game so I get a sequel!'}]"
      ]
     },
     "execution_count": 44,
     "metadata": {},
     "output_type": "execute_result"
    }
   ],
   "source": [
    "# data de la columna 'reviews' que vamos a desanidar\n",
    "user_reviews['reviews'][0]"
   ]
  },
  {
   "cell_type": "markdown",
   "metadata": {},
   "source": [
    "# transformacion\n",
    "\n",
    "desanidamos los datos de la columna reviews"
   ]
  },
  {
   "cell_type": "code",
   "execution_count": 45,
   "metadata": {},
   "outputs": [],
   "source": [
    "#desanidamos la columna 'reviews' por medio del metodo explode\n",
    "metodo_explode = user_reviews.explode('reviews') \n",
    "#en el proceso de desanidar sus datos se extraen a nuevas columnas, a la vez que la columna 'reviews' es eliminada\n",
    "user_reviews = pd.concat([metodo_explode.drop(['reviews'], axis=1), metodo_explode['reviews'].apply(pd.Series)], axis=1)\n",
    "user_reviews = user_reviews.drop_duplicates(subset='review', keep='first')"
   ]
  },
  {
   "cell_type": "code",
   "execution_count": 46,
   "metadata": {},
   "outputs": [
    {
     "data": {
      "text/html": [
       "<div>\n",
       "<style scoped>\n",
       "    .dataframe tbody tr th:only-of-type {\n",
       "        vertical-align: middle;\n",
       "    }\n",
       "\n",
       "    .dataframe tbody tr th {\n",
       "        vertical-align: top;\n",
       "    }\n",
       "\n",
       "    .dataframe thead th {\n",
       "        text-align: right;\n",
       "    }\n",
       "</style>\n",
       "<table border=\"1\" class=\"dataframe\">\n",
       "  <thead>\n",
       "    <tr style=\"text-align: right;\">\n",
       "      <th></th>\n",
       "      <th>user_id</th>\n",
       "      <th>funny</th>\n",
       "      <th>posted</th>\n",
       "      <th>last_edited</th>\n",
       "      <th>item_id</th>\n",
       "      <th>helpful</th>\n",
       "      <th>recommend</th>\n",
       "      <th>review</th>\n",
       "      <th>0</th>\n",
       "    </tr>\n",
       "  </thead>\n",
       "  <tbody>\n",
       "    <tr>\n",
       "      <th>0</th>\n",
       "      <td>76561197970982479</td>\n",
       "      <td></td>\n",
       "      <td>Posted November 5, 2011.</td>\n",
       "      <td></td>\n",
       "      <td>1250</td>\n",
       "      <td>No ratings yet</td>\n",
       "      <td>True</td>\n",
       "      <td>Simple yet with great replayability. In my opi...</td>\n",
       "      <td>NaN</td>\n",
       "    </tr>\n",
       "    <tr>\n",
       "      <th>0</th>\n",
       "      <td>76561197970982479</td>\n",
       "      <td></td>\n",
       "      <td>Posted July 15, 2011.</td>\n",
       "      <td></td>\n",
       "      <td>22200</td>\n",
       "      <td>No ratings yet</td>\n",
       "      <td>True</td>\n",
       "      <td>It's unique and worth a playthrough.</td>\n",
       "      <td>NaN</td>\n",
       "    </tr>\n",
       "    <tr>\n",
       "      <th>0</th>\n",
       "      <td>76561197970982479</td>\n",
       "      <td></td>\n",
       "      <td>Posted April 21, 2011.</td>\n",
       "      <td></td>\n",
       "      <td>43110</td>\n",
       "      <td>No ratings yet</td>\n",
       "      <td>True</td>\n",
       "      <td>Great atmosphere. The gunplay can be a bit chu...</td>\n",
       "      <td>NaN</td>\n",
       "    </tr>\n",
       "    <tr>\n",
       "      <th>1</th>\n",
       "      <td>js41637</td>\n",
       "      <td></td>\n",
       "      <td>Posted June 24, 2014.</td>\n",
       "      <td></td>\n",
       "      <td>251610</td>\n",
       "      <td>15 of 20 people (75%) found this review helpful</td>\n",
       "      <td>True</td>\n",
       "      <td>I know what you think when you see this title ...</td>\n",
       "      <td>NaN</td>\n",
       "    </tr>\n",
       "    <tr>\n",
       "      <th>1</th>\n",
       "      <td>js41637</td>\n",
       "      <td></td>\n",
       "      <td>Posted September 8, 2013.</td>\n",
       "      <td></td>\n",
       "      <td>227300</td>\n",
       "      <td>0 of 1 people (0%) found this review helpful</td>\n",
       "      <td>True</td>\n",
       "      <td>For a simple (it's actually not all that simpl...</td>\n",
       "      <td>NaN</td>\n",
       "    </tr>\n",
       "    <tr>\n",
       "      <th>...</th>\n",
       "      <td>...</td>\n",
       "      <td>...</td>\n",
       "      <td>...</td>\n",
       "      <td>...</td>\n",
       "      <td>...</td>\n",
       "      <td>...</td>\n",
       "      <td>...</td>\n",
       "      <td>...</td>\n",
       "      <td>...</td>\n",
       "    </tr>\n",
       "    <tr>\n",
       "      <th>25797</th>\n",
       "      <td>76561198312638244</td>\n",
       "      <td></td>\n",
       "      <td>Posted July 10.</td>\n",
       "      <td></td>\n",
       "      <td>130</td>\n",
       "      <td>No ratings yet</td>\n",
       "      <td>True</td>\n",
       "      <td>if you liked Half life i would really recommen...</td>\n",
       "      <td>NaN</td>\n",
       "    </tr>\n",
       "    <tr>\n",
       "      <th>25797</th>\n",
       "      <td>76561198312638244</td>\n",
       "      <td></td>\n",
       "      <td>Posted July 10.</td>\n",
       "      <td></td>\n",
       "      <td>70</td>\n",
       "      <td>No ratings yet</td>\n",
       "      <td>True</td>\n",
       "      <td>a must have classic from steam definitely wort...</td>\n",
       "      <td>NaN</td>\n",
       "    </tr>\n",
       "    <tr>\n",
       "      <th>25797</th>\n",
       "      <td>76561198312638244</td>\n",
       "      <td></td>\n",
       "      <td>Posted July 8.</td>\n",
       "      <td></td>\n",
       "      <td>362890</td>\n",
       "      <td>No ratings yet</td>\n",
       "      <td>True</td>\n",
       "      <td>this game is a perfect remake of the original ...</td>\n",
       "      <td>NaN</td>\n",
       "    </tr>\n",
       "    <tr>\n",
       "      <th>25798</th>\n",
       "      <td>LydiaMorley</td>\n",
       "      <td>1 person found this review funny</td>\n",
       "      <td>Posted July 3.</td>\n",
       "      <td></td>\n",
       "      <td>273110</td>\n",
       "      <td>1 of 2 people (50%) found this review helpful</td>\n",
       "      <td>True</td>\n",
       "      <td>had so much fun plaing this and collecting res...</td>\n",
       "      <td>NaN</td>\n",
       "    </tr>\n",
       "    <tr>\n",
       "      <th>25798</th>\n",
       "      <td>LydiaMorley</td>\n",
       "      <td></td>\n",
       "      <td>Posted July 2.</td>\n",
       "      <td></td>\n",
       "      <td>440</td>\n",
       "      <td>No ratings yet</td>\n",
       "      <td>True</td>\n",
       "      <td>so much fun :D</td>\n",
       "      <td>NaN</td>\n",
       "    </tr>\n",
       "  </tbody>\n",
       "</table>\n",
       "<p>55314 rows × 9 columns</p>\n",
       "</div>"
      ],
      "text/plain": [
       "                 user_id                             funny  \\\n",
       "0      76561197970982479                                     \n",
       "0      76561197970982479                                     \n",
       "0      76561197970982479                                     \n",
       "1                js41637                                     \n",
       "1                js41637                                     \n",
       "...                  ...                               ...   \n",
       "25797  76561198312638244                                     \n",
       "25797  76561198312638244                                     \n",
       "25797  76561198312638244                                     \n",
       "25798        LydiaMorley  1 person found this review funny   \n",
       "25798        LydiaMorley                                     \n",
       "\n",
       "                          posted last_edited item_id  \\\n",
       "0       Posted November 5, 2011.                1250   \n",
       "0          Posted July 15, 2011.               22200   \n",
       "0         Posted April 21, 2011.               43110   \n",
       "1          Posted June 24, 2014.              251610   \n",
       "1      Posted September 8, 2013.              227300   \n",
       "...                          ...         ...     ...   \n",
       "25797            Posted July 10.                 130   \n",
       "25797            Posted July 10.                  70   \n",
       "25797             Posted July 8.              362890   \n",
       "25798             Posted July 3.              273110   \n",
       "25798             Posted July 2.                 440   \n",
       "\n",
       "                                               helpful recommend  \\\n",
       "0                                       No ratings yet      True   \n",
       "0                                       No ratings yet      True   \n",
       "0                                       No ratings yet      True   \n",
       "1      15 of 20 people (75%) found this review helpful      True   \n",
       "1         0 of 1 people (0%) found this review helpful      True   \n",
       "...                                                ...       ...   \n",
       "25797                                   No ratings yet      True   \n",
       "25797                                   No ratings yet      True   \n",
       "25797                                   No ratings yet      True   \n",
       "25798    1 of 2 people (50%) found this review helpful      True   \n",
       "25798                                   No ratings yet      True   \n",
       "\n",
       "                                                  review   0  \n",
       "0      Simple yet with great replayability. In my opi... NaN  \n",
       "0                   It's unique and worth a playthrough. NaN  \n",
       "0      Great atmosphere. The gunplay can be a bit chu... NaN  \n",
       "1      I know what you think when you see this title ... NaN  \n",
       "1      For a simple (it's actually not all that simpl... NaN  \n",
       "...                                                  ...  ..  \n",
       "25797  if you liked Half life i would really recommen... NaN  \n",
       "25797  a must have classic from steam definitely wort... NaN  \n",
       "25797  this game is a perfect remake of the original ... NaN  \n",
       "25798  had so much fun plaing this and collecting res... NaN  \n",
       "25798                                     so much fun :D NaN  \n",
       "\n",
       "[55314 rows x 9 columns]"
      ]
     },
     "execution_count": 46,
     "metadata": {},
     "output_type": "execute_result"
    }
   ],
   "source": [
    "user_reviews"
   ]
  },
  {
   "cell_type": "code",
   "execution_count": 47,
   "metadata": {},
   "outputs": [
    {
     "name": "stdout",
     "output_type": "stream",
     "text": [
      "cantidad valores nulos columna 0: 55314\n"
     ]
    }
   ],
   "source": [
    "# debemos eliminar la ultima columna ya que solo contiene valores nulos\n",
    "nulos_0= user_reviews[0].isnull().sum()\n",
    "print(f'cantidad valores nulos columna 0: {nulos_0}')"
   ]
  },
  {
   "cell_type": "code",
   "execution_count": 48,
   "metadata": {},
   "outputs": [],
   "source": [
    "# eliminamos la ultima columna\n",
    "user_reviews= user_reviews.drop(columns=[0], axis=1)"
   ]
  },
  {
   "cell_type": "code",
   "execution_count": 49,
   "metadata": {},
   "outputs": [
    {
     "name": "stdout",
     "output_type": "stream",
     "text": [
      "cantidad celdas vacias columna funny: 47555\n",
      "cantidad celdas vacias columna last_edited: 49368\n"
     ]
    }
   ],
   "source": [
    "# funcion para contar la cantidad de celdas vacias en las columnas 'funny' y 'last_edited'\n",
    "def contador_celdas_vacias(dataframe,columna):\n",
    "    contador=dataframe[columna].apply(lambda x: x == '').sum()\n",
    "    return contador\n",
    "\n",
    "# aplicamos funcion en la columna 'funny'\n",
    "celdas_vacias_funny= contador_celdas_vacias(user_reviews,'funny')\n",
    "print(f'cantidad celdas vacias columna funny: {celdas_vacias_funny}')\n",
    "# aplicamos funcion en la columna 'last_edited'\n",
    "celdas_vacias_last_edited= contador_celdas_vacias(user_reviews,'last_edited')\n",
    "print(f'cantidad celdas vacias columna last_edited: {celdas_vacias_last_edited}')"
   ]
  },
  {
   "cell_type": "code",
   "execution_count": 50,
   "metadata": {},
   "outputs": [
    {
     "data": {
      "text/html": [
       "<div>\n",
       "<style scoped>\n",
       "    .dataframe tbody tr th:only-of-type {\n",
       "        vertical-align: middle;\n",
       "    }\n",
       "\n",
       "    .dataframe tbody tr th {\n",
       "        vertical-align: top;\n",
       "    }\n",
       "\n",
       "    .dataframe thead th {\n",
       "        text-align: right;\n",
       "    }\n",
       "</style>\n",
       "<table border=\"1\" class=\"dataframe\">\n",
       "  <thead>\n",
       "    <tr style=\"text-align: right;\">\n",
       "      <th></th>\n",
       "      <th>user_id</th>\n",
       "      <th>posted</th>\n",
       "      <th>item_id</th>\n",
       "      <th>helpful</th>\n",
       "      <th>recommend</th>\n",
       "      <th>review</th>\n",
       "    </tr>\n",
       "  </thead>\n",
       "  <tbody>\n",
       "    <tr>\n",
       "      <th>0</th>\n",
       "      <td>76561197970982479</td>\n",
       "      <td>Posted November 5, 2011.</td>\n",
       "      <td>1250</td>\n",
       "      <td>No ratings yet</td>\n",
       "      <td>True</td>\n",
       "      <td>Simple yet with great replayability. In my opi...</td>\n",
       "    </tr>\n",
       "    <tr>\n",
       "      <th>0</th>\n",
       "      <td>76561197970982479</td>\n",
       "      <td>Posted July 15, 2011.</td>\n",
       "      <td>22200</td>\n",
       "      <td>No ratings yet</td>\n",
       "      <td>True</td>\n",
       "      <td>It's unique and worth a playthrough.</td>\n",
       "    </tr>\n",
       "    <tr>\n",
       "      <th>0</th>\n",
       "      <td>76561197970982479</td>\n",
       "      <td>Posted April 21, 2011.</td>\n",
       "      <td>43110</td>\n",
       "      <td>No ratings yet</td>\n",
       "      <td>True</td>\n",
       "      <td>Great atmosphere. The gunplay can be a bit chu...</td>\n",
       "    </tr>\n",
       "    <tr>\n",
       "      <th>1</th>\n",
       "      <td>js41637</td>\n",
       "      <td>Posted June 24, 2014.</td>\n",
       "      <td>251610</td>\n",
       "      <td>15 of 20 people (75%) found this review helpful</td>\n",
       "      <td>True</td>\n",
       "      <td>I know what you think when you see this title ...</td>\n",
       "    </tr>\n",
       "    <tr>\n",
       "      <th>1</th>\n",
       "      <td>js41637</td>\n",
       "      <td>Posted September 8, 2013.</td>\n",
       "      <td>227300</td>\n",
       "      <td>0 of 1 people (0%) found this review helpful</td>\n",
       "      <td>True</td>\n",
       "      <td>For a simple (it's actually not all that simpl...</td>\n",
       "    </tr>\n",
       "  </tbody>\n",
       "</table>\n",
       "</div>"
      ],
      "text/plain": [
       "             user_id                     posted item_id  \\\n",
       "0  76561197970982479   Posted November 5, 2011.    1250   \n",
       "0  76561197970982479      Posted July 15, 2011.   22200   \n",
       "0  76561197970982479     Posted April 21, 2011.   43110   \n",
       "1            js41637      Posted June 24, 2014.  251610   \n",
       "1            js41637  Posted September 8, 2013.  227300   \n",
       "\n",
       "                                           helpful recommend  \\\n",
       "0                                   No ratings yet      True   \n",
       "0                                   No ratings yet      True   \n",
       "0                                   No ratings yet      True   \n",
       "1  15 of 20 people (75%) found this review helpful      True   \n",
       "1     0 of 1 people (0%) found this review helpful      True   \n",
       "\n",
       "                                              review  \n",
       "0  Simple yet with great replayability. In my opi...  \n",
       "0               It's unique and worth a playthrough.  \n",
       "0  Great atmosphere. The gunplay can be a bit chu...  \n",
       "1  I know what you think when you see this title ...  \n",
       "1  For a simple (it's actually not all that simpl...  "
      ]
     },
     "execution_count": 50,
     "metadata": {},
     "output_type": "execute_result"
    }
   ],
   "source": [
    "# eliminamos las columnas 'funny' y 'last_edited' ya que no tienen muchas celdas vacias y su informacion no es util para el proyecto\n",
    "user_reviews= user_reviews.drop(columns=['funny', 'last_edited'], axis=1)\n",
    "user_reviews.head()"
   ]
  },
  {
   "cell_type": "code",
   "execution_count": 51,
   "metadata": {},
   "outputs": [
    {
     "data": {
      "text/plain": [
       "25610    Posted September 15, 2014.\n",
       "5342       Posted October 20, 2015.\n",
       "10165     Posted February 14, 2014.\n",
       "23628        Posted March 31, 2014.\n",
       "187            Posted May 11, 2015.\n",
       "8077           Posted May 23, 2015.\n",
       "1592            Posted September 2.\n",
       "20569     Posted November 10, 2015.\n",
       "1082      Posted September 9, 2014.\n",
       "25715            Posted February 3.\n",
       "4183      Posted February 23, 2014.\n",
       "21607      Posted January 30, 2015.\n",
       "14574      Posted December 1, 2015.\n",
       "13810         Posted July 13, 2015.\n",
       "18408     Posted February 14, 2015.\n",
       "14487       Posted August 29, 2015.\n",
       "11497       Posted January 8, 2015.\n",
       "14740      Posted January 25, 2014.\n",
       "1603       Posted October 24, 2012.\n",
       "24665     Posted December 12, 2013.\n",
       "Name: posted, dtype: object"
      ]
     },
     "execution_count": 51,
     "metadata": {},
     "output_type": "execute_result"
    }
   ],
   "source": [
    "# data de la columna 'posted'\n",
    "user_reviews['posted'].sample(20)"
   ]
  },
  {
   "cell_type": "markdown",
   "metadata": {},
   "source": [
    "# transformacion\n",
    "\n",
    "extraemos el año de la columna posted para posteriormente almacenarlo en una nueva columna llamada year"
   ]
  },
  {
   "cell_type": "code",
   "execution_count": 52,
   "metadata": {},
   "outputs": [],
   "source": [
    "# extraemos el año de la columna 'posted' en una nueva columna llamada 'year'\n",
    "user_reviews['year']=user_reviews['posted'].str.extract(r'(\\d{4})')\n",
    "# eliminamos columna posted\n",
    "user_reviews=user_reviews.drop(columns=['posted'],axis=1)"
   ]
  },
  {
   "cell_type": "code",
   "execution_count": 53,
   "metadata": {},
   "outputs": [
    {
     "data": {
      "text/plain": [
       "year\n",
       "2014    0.449068\n",
       "2015    0.376969\n",
       "2013    0.136931\n",
       "2012    0.024506\n",
       "2011    0.011085\n",
       "2010    0.001440\n",
       "Name: proportion, dtype: float64"
      ]
     },
     "execution_count": 53,
     "metadata": {},
     "output_type": "execute_result"
    }
   ],
   "source": [
    "# observamos la media para calcular valores faltantes de la columna 'year'\n",
    "user_reviews['year'].value_counts(normalize=True)"
   ]
  },
  {
   "cell_type": "code",
   "execution_count": 54,
   "metadata": {},
   "outputs": [],
   "source": [
    "# con la mediana rellenamos datos faltantes de la columna\n",
    "user_reviews['year'].fillna(user_reviews['year'].median(), inplace=True)"
   ]
  },
  {
   "cell_type": "code",
   "execution_count": 55,
   "metadata": {},
   "outputs": [
    {
     "name": "stdout",
     "output_type": "stream",
     "text": [
      "cantidad valores nulos columna year: 0\n"
     ]
    }
   ],
   "source": [
    "# comprobamos nulos\n",
    "nulos_year=user_reviews['year'].isnull().sum()\n",
    "print(f'cantidad valores nulos columna year: {nulos_year}')"
   ]
  },
  {
   "cell_type": "code",
   "execution_count": 56,
   "metadata": {},
   "outputs": [],
   "source": [
    "# convertimos tipo de dato de columna 'year' a int\n",
    "user_reviews['year']=user_reviews['year'].astype(int)"
   ]
  },
  {
   "cell_type": "code",
   "execution_count": 57,
   "metadata": {},
   "outputs": [],
   "source": [
    "# eliminamo columna ya que su informacion es innecesaria para nuestro proceso de analisis\n",
    "user_reviews=user_reviews.drop(columns=['helpful'], axis=1)"
   ]
  },
  {
   "cell_type": "markdown",
   "metadata": {},
   "source": [
    "chequeo de valores nulos"
   ]
  },
  {
   "cell_type": "code",
   "execution_count": 58,
   "metadata": {},
   "outputs": [
    {
     "data": {
      "text/plain": [
       "user_id      0\n",
       "item_id      1\n",
       "recommend    1\n",
       "review       1\n",
       "year         0\n",
       "dtype: int64"
      ]
     },
     "execution_count": 58,
     "metadata": {},
     "output_type": "execute_result"
    }
   ],
   "source": [
    "# contamos valores nulos en el dataframe\n",
    "user_reviews.isnull().sum()"
   ]
  },
  {
   "cell_type": "code",
   "execution_count": 59,
   "metadata": {},
   "outputs": [],
   "source": [
    "# eliminamos los valores nulos de estas columnas ya que solo son 1 registro nulo por columna\n",
    "user_reviews= user_reviews.dropna(subset=['item_id', 'recommend', 'review'])"
   ]
  },
  {
   "cell_type": "code",
   "execution_count": 60,
   "metadata": {},
   "outputs": [
    {
     "data": {
      "text/plain": [
       "user_id      0\n",
       "item_id      0\n",
       "recommend    0\n",
       "review       0\n",
       "year         0\n",
       "dtype: int64"
      ]
     },
     "execution_count": 60,
     "metadata": {},
     "output_type": "execute_result"
    }
   ],
   "source": [
    "# verificamos valores nulos\n",
    "user_reviews.isnull().sum()"
   ]
  },
  {
   "cell_type": "markdown",
   "metadata": {},
   "source": [
    "# analisis de sentimiento y creacion de la columna sentiment_analysis"
   ]
  },
  {
   "cell_type": "code",
   "execution_count": 61,
   "metadata": {},
   "outputs": [],
   "source": [
    "# creamos la columna 'sentiment_analysis' por medio de una funcion y la aplicamos sobre la columna 'review'\n",
    "from textblob import TextBlob\n",
    "\n",
    "# funcion donde realizaremos el analisis de sentimiento\n",
    "def analyze_sentiment(review):\n",
    "    if pd.isnull(review):  # resenia es nulo devuelve 1 (neutral)\n",
    "        return 1\n",
    "    else:\n",
    "        analysis = TextBlob(review)\n",
    "        # asignamos valores de acuerdo con la polaridad del análisis de sentimiento\n",
    "        if analysis.sentiment.polarity < 0:\n",
    "            return 0  # Sentimiento negativo\n",
    "        elif analysis.sentiment.polarity == 0:\n",
    "            return 1  # Sentimiento neutro\n",
    "        else:\n",
    "            return 2  # Sentimiento positivo\n",
    "        \n",
    "user_reviews['sentiment_analysis']= user_reviews['review'].apply(analyze_sentiment)"
   ]
  },
  {
   "cell_type": "code",
   "execution_count": 62,
   "metadata": {},
   "outputs": [
    {
     "data": {
      "text/plain": [
       "sentiment_analysis\n",
       "2    31127\n",
       "0    12381\n",
       "1    11805\n",
       "Name: count, dtype: int64"
      ]
     },
     "execution_count": 62,
     "metadata": {},
     "output_type": "execute_result"
    }
   ],
   "source": [
    "# cantidad de cada valor en la columna 'sentiment_analysis'\n",
    "user_reviews['sentiment_analysis'].value_counts()"
   ]
  },
  {
   "cell_type": "code",
   "execution_count": 63,
   "metadata": {},
   "outputs": [
    {
     "data": {
      "text/html": [
       "<div>\n",
       "<style scoped>\n",
       "    .dataframe tbody tr th:only-of-type {\n",
       "        vertical-align: middle;\n",
       "    }\n",
       "\n",
       "    .dataframe tbody tr th {\n",
       "        vertical-align: top;\n",
       "    }\n",
       "\n",
       "    .dataframe thead th {\n",
       "        text-align: right;\n",
       "    }\n",
       "</style>\n",
       "<table border=\"1\" class=\"dataframe\">\n",
       "  <thead>\n",
       "    <tr style=\"text-align: right;\">\n",
       "      <th></th>\n",
       "      <th>user_id</th>\n",
       "      <th>item_id</th>\n",
       "      <th>recommend</th>\n",
       "      <th>review</th>\n",
       "      <th>year</th>\n",
       "      <th>sentiment_analysis</th>\n",
       "    </tr>\n",
       "  </thead>\n",
       "  <tbody>\n",
       "    <tr>\n",
       "      <th>0</th>\n",
       "      <td>76561197970982479</td>\n",
       "      <td>1250</td>\n",
       "      <td>True</td>\n",
       "      <td>Simple yet with great replayability. In my opi...</td>\n",
       "      <td>2011</td>\n",
       "      <td>2</td>\n",
       "    </tr>\n",
       "    <tr>\n",
       "      <th>0</th>\n",
       "      <td>76561197970982479</td>\n",
       "      <td>22200</td>\n",
       "      <td>True</td>\n",
       "      <td>It's unique and worth a playthrough.</td>\n",
       "      <td>2011</td>\n",
       "      <td>2</td>\n",
       "    </tr>\n",
       "    <tr>\n",
       "      <th>0</th>\n",
       "      <td>76561197970982479</td>\n",
       "      <td>43110</td>\n",
       "      <td>True</td>\n",
       "      <td>Great atmosphere. The gunplay can be a bit chu...</td>\n",
       "      <td>2011</td>\n",
       "      <td>2</td>\n",
       "    </tr>\n",
       "    <tr>\n",
       "      <th>1</th>\n",
       "      <td>js41637</td>\n",
       "      <td>251610</td>\n",
       "      <td>True</td>\n",
       "      <td>I know what you think when you see this title ...</td>\n",
       "      <td>2014</td>\n",
       "      <td>2</td>\n",
       "    </tr>\n",
       "    <tr>\n",
       "      <th>1</th>\n",
       "      <td>js41637</td>\n",
       "      <td>227300</td>\n",
       "      <td>True</td>\n",
       "      <td>For a simple (it's actually not all that simpl...</td>\n",
       "      <td>2013</td>\n",
       "      <td>0</td>\n",
       "    </tr>\n",
       "    <tr>\n",
       "      <th>...</th>\n",
       "      <td>...</td>\n",
       "      <td>...</td>\n",
       "      <td>...</td>\n",
       "      <td>...</td>\n",
       "      <td>...</td>\n",
       "      <td>...</td>\n",
       "    </tr>\n",
       "    <tr>\n",
       "      <th>25797</th>\n",
       "      <td>76561198312638244</td>\n",
       "      <td>130</td>\n",
       "      <td>True</td>\n",
       "      <td>if you liked Half life i would really recommen...</td>\n",
       "      <td>2014</td>\n",
       "      <td>2</td>\n",
       "    </tr>\n",
       "    <tr>\n",
       "      <th>25797</th>\n",
       "      <td>76561198312638244</td>\n",
       "      <td>70</td>\n",
       "      <td>True</td>\n",
       "      <td>a must have classic from steam definitely wort...</td>\n",
       "      <td>2014</td>\n",
       "      <td>2</td>\n",
       "    </tr>\n",
       "    <tr>\n",
       "      <th>25797</th>\n",
       "      <td>76561198312638244</td>\n",
       "      <td>362890</td>\n",
       "      <td>True</td>\n",
       "      <td>this game is a perfect remake of the original ...</td>\n",
       "      <td>2014</td>\n",
       "      <td>2</td>\n",
       "    </tr>\n",
       "    <tr>\n",
       "      <th>25798</th>\n",
       "      <td>LydiaMorley</td>\n",
       "      <td>273110</td>\n",
       "      <td>True</td>\n",
       "      <td>had so much fun plaing this and collecting res...</td>\n",
       "      <td>2014</td>\n",
       "      <td>2</td>\n",
       "    </tr>\n",
       "    <tr>\n",
       "      <th>25798</th>\n",
       "      <td>LydiaMorley</td>\n",
       "      <td>440</td>\n",
       "      <td>True</td>\n",
       "      <td>so much fun :D</td>\n",
       "      <td>2014</td>\n",
       "      <td>2</td>\n",
       "    </tr>\n",
       "  </tbody>\n",
       "</table>\n",
       "<p>55313 rows × 6 columns</p>\n",
       "</div>"
      ],
      "text/plain": [
       "                 user_id item_id recommend  \\\n",
       "0      76561197970982479    1250      True   \n",
       "0      76561197970982479   22200      True   \n",
       "0      76561197970982479   43110      True   \n",
       "1                js41637  251610      True   \n",
       "1                js41637  227300      True   \n",
       "...                  ...     ...       ...   \n",
       "25797  76561198312638244     130      True   \n",
       "25797  76561198312638244      70      True   \n",
       "25797  76561198312638244  362890      True   \n",
       "25798        LydiaMorley  273110      True   \n",
       "25798        LydiaMorley     440      True   \n",
       "\n",
       "                                                  review  year  \\\n",
       "0      Simple yet with great replayability. In my opi...  2011   \n",
       "0                   It's unique and worth a playthrough.  2011   \n",
       "0      Great atmosphere. The gunplay can be a bit chu...  2011   \n",
       "1      I know what you think when you see this title ...  2014   \n",
       "1      For a simple (it's actually not all that simpl...  2013   \n",
       "...                                                  ...   ...   \n",
       "25797  if you liked Half life i would really recommen...  2014   \n",
       "25797  a must have classic from steam definitely wort...  2014   \n",
       "25797  this game is a perfect remake of the original ...  2014   \n",
       "25798  had so much fun plaing this and collecting res...  2014   \n",
       "25798                                     so much fun :D  2014   \n",
       "\n",
       "       sentiment_analysis  \n",
       "0                       2  \n",
       "0                       2  \n",
       "0                       2  \n",
       "1                       2  \n",
       "1                       0  \n",
       "...                   ...  \n",
       "25797                   2  \n",
       "25797                   2  \n",
       "25797                   2  \n",
       "25798                   2  \n",
       "25798                   2  \n",
       "\n",
       "[55313 rows x 6 columns]"
      ]
     },
     "execution_count": 63,
     "metadata": {},
     "output_type": "execute_result"
    }
   ],
   "source": [
    "user_reviews"
   ]
  },
  {
   "cell_type": "code",
   "execution_count": 64,
   "metadata": {},
   "outputs": [
    {
     "name": "stdout",
     "output_type": "stream",
     "text": [
      "<class 'pandas.core.frame.DataFrame'>\n",
      "Index: 55313 entries, 0 to 25798\n",
      "Data columns (total 6 columns):\n",
      " #   Column              Non-Null Count  Dtype \n",
      "---  ------              --------------  ----- \n",
      " 0   user_id             55313 non-null  object\n",
      " 1   item_id             55313 non-null  object\n",
      " 2   recommend           55313 non-null  object\n",
      " 3   review              55313 non-null  object\n",
      " 4   year                55313 non-null  int32 \n",
      " 5   sentiment_analysis  55313 non-null  int64 \n",
      "dtypes: int32(1), int64(1), object(4)\n",
      "memory usage: 2.7+ MB\n"
     ]
    }
   ],
   "source": [
    "#informacion general del dataframe\n",
    "user_reviews.info()"
   ]
  },
  {
   "cell_type": "code",
   "execution_count": 65,
   "metadata": {},
   "outputs": [],
   "source": [
    "#cambiamos tipo de dato de la columna 'item_id'\n",
    "user_reviews['item_id']=user_reviews['item_id'].astype(int)"
   ]
  },
  {
   "cell_type": "code",
   "execution_count": 66,
   "metadata": {},
   "outputs": [],
   "source": [
    "# cambiamos tipo de dato de la columna 'recommend'\n",
    "user_reviews['recommend']= user_reviews['recommend'].astype(bool)"
   ]
  },
  {
   "cell_type": "code",
   "execution_count": 67,
   "metadata": {},
   "outputs": [
    {
     "name": "stdout",
     "output_type": "stream",
     "text": [
      "<class 'pandas.core.frame.DataFrame'>\n",
      "Index: 55313 entries, 0 to 25798\n",
      "Data columns (total 6 columns):\n",
      " #   Column              Non-Null Count  Dtype \n",
      "---  ------              --------------  ----- \n",
      " 0   user_id             55313 non-null  object\n",
      " 1   item_id             55313 non-null  int32 \n",
      " 2   recommend           55313 non-null  bool  \n",
      " 3   review              55313 non-null  object\n",
      " 4   year                55313 non-null  int32 \n",
      " 5   sentiment_analysis  55313 non-null  int64 \n",
      "dtypes: bool(1), int32(2), int64(1), object(2)\n",
      "memory usage: 2.2+ MB\n"
     ]
    }
   ],
   "source": [
    "#informacion general del dataframe\n",
    "user_reviews.info()"
   ]
  },
  {
   "cell_type": "markdown",
   "metadata": {},
   "source": [
    "chequeo de valores nulos"
   ]
  },
  {
   "cell_type": "code",
   "execution_count": 68,
   "metadata": {},
   "outputs": [
    {
     "data": {
      "text/plain": [
       "user_id               0\n",
       "item_id               0\n",
       "recommend             0\n",
       "review                0\n",
       "year                  0\n",
       "sentiment_analysis    0\n",
       "dtype: int64"
      ]
     },
     "execution_count": 68,
     "metadata": {},
     "output_type": "execute_result"
    }
   ],
   "source": [
    "#verificamos cantidad de valores nulos\n",
    "user_reviews.isnull().sum()"
   ]
  },
  {
   "cell_type": "code",
   "execution_count": 69,
   "metadata": {},
   "outputs": [],
   "source": [
    "# reiniciamos los indices\n",
    "user_reviews.reset_index(drop=True, inplace=True)"
   ]
  },
  {
   "cell_type": "code",
   "execution_count": 70,
   "metadata": {},
   "outputs": [
    {
     "data": {
      "text/html": [
       "<div>\n",
       "<style scoped>\n",
       "    .dataframe tbody tr th:only-of-type {\n",
       "        vertical-align: middle;\n",
       "    }\n",
       "\n",
       "    .dataframe tbody tr th {\n",
       "        vertical-align: top;\n",
       "    }\n",
       "\n",
       "    .dataframe thead th {\n",
       "        text-align: right;\n",
       "    }\n",
       "</style>\n",
       "<table border=\"1\" class=\"dataframe\">\n",
       "  <thead>\n",
       "    <tr style=\"text-align: right;\">\n",
       "      <th></th>\n",
       "      <th>user_id</th>\n",
       "      <th>item_id</th>\n",
       "      <th>recommend</th>\n",
       "      <th>review</th>\n",
       "      <th>year</th>\n",
       "      <th>sentiment_analysis</th>\n",
       "    </tr>\n",
       "  </thead>\n",
       "  <tbody>\n",
       "    <tr>\n",
       "      <th>0</th>\n",
       "      <td>76561197970982479</td>\n",
       "      <td>1250</td>\n",
       "      <td>True</td>\n",
       "      <td>Simple yet with great replayability. In my opi...</td>\n",
       "      <td>2011</td>\n",
       "      <td>2</td>\n",
       "    </tr>\n",
       "    <tr>\n",
       "      <th>1</th>\n",
       "      <td>76561197970982479</td>\n",
       "      <td>22200</td>\n",
       "      <td>True</td>\n",
       "      <td>It's unique and worth a playthrough.</td>\n",
       "      <td>2011</td>\n",
       "      <td>2</td>\n",
       "    </tr>\n",
       "    <tr>\n",
       "      <th>2</th>\n",
       "      <td>76561197970982479</td>\n",
       "      <td>43110</td>\n",
       "      <td>True</td>\n",
       "      <td>Great atmosphere. The gunplay can be a bit chu...</td>\n",
       "      <td>2011</td>\n",
       "      <td>2</td>\n",
       "    </tr>\n",
       "    <tr>\n",
       "      <th>3</th>\n",
       "      <td>js41637</td>\n",
       "      <td>251610</td>\n",
       "      <td>True</td>\n",
       "      <td>I know what you think when you see this title ...</td>\n",
       "      <td>2014</td>\n",
       "      <td>2</td>\n",
       "    </tr>\n",
       "    <tr>\n",
       "      <th>4</th>\n",
       "      <td>js41637</td>\n",
       "      <td>227300</td>\n",
       "      <td>True</td>\n",
       "      <td>For a simple (it's actually not all that simpl...</td>\n",
       "      <td>2013</td>\n",
       "      <td>0</td>\n",
       "    </tr>\n",
       "    <tr>\n",
       "      <th>...</th>\n",
       "      <td>...</td>\n",
       "      <td>...</td>\n",
       "      <td>...</td>\n",
       "      <td>...</td>\n",
       "      <td>...</td>\n",
       "      <td>...</td>\n",
       "    </tr>\n",
       "    <tr>\n",
       "      <th>55308</th>\n",
       "      <td>76561198312638244</td>\n",
       "      <td>130</td>\n",
       "      <td>True</td>\n",
       "      <td>if you liked Half life i would really recommen...</td>\n",
       "      <td>2014</td>\n",
       "      <td>2</td>\n",
       "    </tr>\n",
       "    <tr>\n",
       "      <th>55309</th>\n",
       "      <td>76561198312638244</td>\n",
       "      <td>70</td>\n",
       "      <td>True</td>\n",
       "      <td>a must have classic from steam definitely wort...</td>\n",
       "      <td>2014</td>\n",
       "      <td>2</td>\n",
       "    </tr>\n",
       "    <tr>\n",
       "      <th>55310</th>\n",
       "      <td>76561198312638244</td>\n",
       "      <td>362890</td>\n",
       "      <td>True</td>\n",
       "      <td>this game is a perfect remake of the original ...</td>\n",
       "      <td>2014</td>\n",
       "      <td>2</td>\n",
       "    </tr>\n",
       "    <tr>\n",
       "      <th>55311</th>\n",
       "      <td>LydiaMorley</td>\n",
       "      <td>273110</td>\n",
       "      <td>True</td>\n",
       "      <td>had so much fun plaing this and collecting res...</td>\n",
       "      <td>2014</td>\n",
       "      <td>2</td>\n",
       "    </tr>\n",
       "    <tr>\n",
       "      <th>55312</th>\n",
       "      <td>LydiaMorley</td>\n",
       "      <td>440</td>\n",
       "      <td>True</td>\n",
       "      <td>so much fun :D</td>\n",
       "      <td>2014</td>\n",
       "      <td>2</td>\n",
       "    </tr>\n",
       "  </tbody>\n",
       "</table>\n",
       "<p>55313 rows × 6 columns</p>\n",
       "</div>"
      ],
      "text/plain": [
       "                 user_id  item_id  recommend  \\\n",
       "0      76561197970982479     1250       True   \n",
       "1      76561197970982479    22200       True   \n",
       "2      76561197970982479    43110       True   \n",
       "3                js41637   251610       True   \n",
       "4                js41637   227300       True   \n",
       "...                  ...      ...        ...   \n",
       "55308  76561198312638244      130       True   \n",
       "55309  76561198312638244       70       True   \n",
       "55310  76561198312638244   362890       True   \n",
       "55311        LydiaMorley   273110       True   \n",
       "55312        LydiaMorley      440       True   \n",
       "\n",
       "                                                  review  year  \\\n",
       "0      Simple yet with great replayability. In my opi...  2011   \n",
       "1                   It's unique and worth a playthrough.  2011   \n",
       "2      Great atmosphere. The gunplay can be a bit chu...  2011   \n",
       "3      I know what you think when you see this title ...  2014   \n",
       "4      For a simple (it's actually not all that simpl...  2013   \n",
       "...                                                  ...   ...   \n",
       "55308  if you liked Half life i would really recommen...  2014   \n",
       "55309  a must have classic from steam definitely wort...  2014   \n",
       "55310  this game is a perfect remake of the original ...  2014   \n",
       "55311  had so much fun plaing this and collecting res...  2014   \n",
       "55312                                     so much fun :D  2014   \n",
       "\n",
       "       sentiment_analysis  \n",
       "0                       2  \n",
       "1                       2  \n",
       "2                       2  \n",
       "3                       2  \n",
       "4                       0  \n",
       "...                   ...  \n",
       "55308                   2  \n",
       "55309                   2  \n",
       "55310                   2  \n",
       "55311                   2  \n",
       "55312                   2  \n",
       "\n",
       "[55313 rows x 6 columns]"
      ]
     },
     "execution_count": 70,
     "metadata": {},
     "output_type": "execute_result"
    }
   ],
   "source": [
    "user_reviews"
   ]
  },
  {
   "cell_type": "markdown",
   "metadata": {},
   "source": [
    "# guardamos archivo a clean_user_reviews.parquet"
   ]
  },
  {
   "cell_type": "code",
   "execution_count": 71,
   "metadata": {},
   "outputs": [],
   "source": [
    "ruta= 'data/clean_user_reviews.parquet'\n",
    "\n",
    "user_reviews.to_parquet(ruta, index=False)"
   ]
  }
 ],
 "metadata": {
  "kernelspec": {
   "display_name": "Python 3",
   "language": "python",
   "name": "python3"
  },
  "language_info": {
   "codemirror_mode": {
    "name": "ipython",
    "version": 3
   },
   "file_extension": ".py",
   "mimetype": "text/x-python",
   "name": "python",
   "nbconvert_exporter": "python",
   "pygments_lexer": "ipython3",
   "version": "3.11.3"
  }
 },
 "nbformat": 4,
 "nbformat_minor": 2
}
