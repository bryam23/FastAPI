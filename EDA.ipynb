{
 "cells": [
  {
   "cell_type": "markdown",
   "metadata": {},
   "source": [
    "# EDA - ANALISIS EXPLORATORIO DE LOS DATOS\n",
    "\n",
    "Llevaremos a cabo el analisis exploratorio de los datos despues de haber pasado por el proceso de ETL en cada uno de los datasets que nos fueron proporcionados, \n",
    "\n",
    "con el objetivo de analizar mas a profundidad nuestros datos y asi poder obtener una compresion mas profunda de ellos"
   ]
  },
  {
   "cell_type": "code",
   "execution_count": 1,
   "metadata": {},
   "outputs": [],
   "source": [
    "# importamos librerias\n",
    "import pandas as pd \n",
    "import matplotlib.pyplot as plt \n",
    "import seaborn as sns "
   ]
  },
  {
   "cell_type": "code",
   "execution_count": 2,
   "metadata": {},
   "outputs": [],
   "source": [
    "# cargamos dataframes\n",
    "user_reviews=pd.read_parquet('data/clean_user_reviews.parquet')\n",
    "user_items=pd.read_parquet('data/clean_user_items.parquet')\n",
    "steam_games=pd.read_parquet('data/clean_steam_games.parquet')"
   ]
  },
  {
   "cell_type": "markdown",
   "metadata": {},
   "source": [
    "# user_reviews.parquet\n",
    "\n",
    "Abrimos el dataset resultantes despues de haberle aplicado el proceso de ETL para hacerle el proceso de analisis exploratorio"
   ]
  },
  {
   "cell_type": "code",
   "execution_count": 3,
   "metadata": {},
   "outputs": [
    {
     "data": {
      "text/html": [
       "<div>\n",
       "<style scoped>\n",
       "    .dataframe tbody tr th:only-of-type {\n",
       "        vertical-align: middle;\n",
       "    }\n",
       "\n",
       "    .dataframe tbody tr th {\n",
       "        vertical-align: top;\n",
       "    }\n",
       "\n",
       "    .dataframe thead th {\n",
       "        text-align: right;\n",
       "    }\n",
       "</style>\n",
       "<table border=\"1\" class=\"dataframe\">\n",
       "  <thead>\n",
       "    <tr style=\"text-align: right;\">\n",
       "      <th></th>\n",
       "      <th>user_id</th>\n",
       "      <th>item_id</th>\n",
       "      <th>recommend</th>\n",
       "      <th>year</th>\n",
       "      <th>sentiment_analysis</th>\n",
       "    </tr>\n",
       "  </thead>\n",
       "  <tbody>\n",
       "    <tr>\n",
       "      <th>0</th>\n",
       "      <td>76561197970982479</td>\n",
       "      <td>1250</td>\n",
       "      <td>True</td>\n",
       "      <td>2011</td>\n",
       "      <td>2</td>\n",
       "    </tr>\n",
       "    <tr>\n",
       "      <th>1</th>\n",
       "      <td>76561197970982479</td>\n",
       "      <td>22200</td>\n",
       "      <td>True</td>\n",
       "      <td>2011</td>\n",
       "      <td>2</td>\n",
       "    </tr>\n",
       "    <tr>\n",
       "      <th>2</th>\n",
       "      <td>76561197970982479</td>\n",
       "      <td>43110</td>\n",
       "      <td>True</td>\n",
       "      <td>2011</td>\n",
       "      <td>2</td>\n",
       "    </tr>\n",
       "    <tr>\n",
       "      <th>3</th>\n",
       "      <td>js41637</td>\n",
       "      <td>251610</td>\n",
       "      <td>True</td>\n",
       "      <td>2014</td>\n",
       "      <td>2</td>\n",
       "    </tr>\n",
       "    <tr>\n",
       "      <th>4</th>\n",
       "      <td>js41637</td>\n",
       "      <td>227300</td>\n",
       "      <td>True</td>\n",
       "      <td>2013</td>\n",
       "      <td>0</td>\n",
       "    </tr>\n",
       "    <tr>\n",
       "      <th>...</th>\n",
       "      <td>...</td>\n",
       "      <td>...</td>\n",
       "      <td>...</td>\n",
       "      <td>...</td>\n",
       "      <td>...</td>\n",
       "    </tr>\n",
       "    <tr>\n",
       "      <th>55308</th>\n",
       "      <td>76561198312638244</td>\n",
       "      <td>130</td>\n",
       "      <td>True</td>\n",
       "      <td>2014</td>\n",
       "      <td>2</td>\n",
       "    </tr>\n",
       "    <tr>\n",
       "      <th>55309</th>\n",
       "      <td>76561198312638244</td>\n",
       "      <td>70</td>\n",
       "      <td>True</td>\n",
       "      <td>2014</td>\n",
       "      <td>2</td>\n",
       "    </tr>\n",
       "    <tr>\n",
       "      <th>55310</th>\n",
       "      <td>76561198312638244</td>\n",
       "      <td>362890</td>\n",
       "      <td>True</td>\n",
       "      <td>2014</td>\n",
       "      <td>2</td>\n",
       "    </tr>\n",
       "    <tr>\n",
       "      <th>55311</th>\n",
       "      <td>LydiaMorley</td>\n",
       "      <td>273110</td>\n",
       "      <td>True</td>\n",
       "      <td>2014</td>\n",
       "      <td>2</td>\n",
       "    </tr>\n",
       "    <tr>\n",
       "      <th>55312</th>\n",
       "      <td>LydiaMorley</td>\n",
       "      <td>440</td>\n",
       "      <td>True</td>\n",
       "      <td>2014</td>\n",
       "      <td>2</td>\n",
       "    </tr>\n",
       "  </tbody>\n",
       "</table>\n",
       "<p>55313 rows × 5 columns</p>\n",
       "</div>"
      ],
      "text/plain": [
       "                 user_id  item_id  recommend  year  sentiment_analysis\n",
       "0      76561197970982479     1250       True  2011                   2\n",
       "1      76561197970982479    22200       True  2011                   2\n",
       "2      76561197970982479    43110       True  2011                   2\n",
       "3                js41637   251610       True  2014                   2\n",
       "4                js41637   227300       True  2013                   0\n",
       "...                  ...      ...        ...   ...                 ...\n",
       "55308  76561198312638244      130       True  2014                   2\n",
       "55309  76561198312638244       70       True  2014                   2\n",
       "55310  76561198312638244   362890       True  2014                   2\n",
       "55311        LydiaMorley   273110       True  2014                   2\n",
       "55312        LydiaMorley      440       True  2014                   2\n",
       "\n",
       "[55313 rows x 5 columns]"
      ]
     },
     "execution_count": 3,
     "metadata": {},
     "output_type": "execute_result"
    }
   ],
   "source": [
    "user_reviews"
   ]
  },
  {
   "cell_type": "code",
   "execution_count": 4,
   "metadata": {},
   "outputs": [
    {
     "name": "stdout",
     "output_type": "stream",
     "text": [
      "<class 'pandas.core.frame.DataFrame'>\n",
      "RangeIndex: 55313 entries, 0 to 55312\n",
      "Data columns (total 5 columns):\n",
      " #   Column              Non-Null Count  Dtype \n",
      "---  ------              --------------  ----- \n",
      " 0   user_id             55313 non-null  object\n",
      " 1   item_id             55313 non-null  int32 \n",
      " 2   recommend           55313 non-null  bool  \n",
      " 3   year                55313 non-null  int32 \n",
      " 4   sentiment_analysis  55313 non-null  int64 \n",
      "dtypes: bool(1), int32(2), int64(1), object(1)\n",
      "memory usage: 1.3+ MB\n"
     ]
    }
   ],
   "source": [
    "# informacion general del dataframe\n",
    "user_reviews.info()"
   ]
  },
  {
   "cell_type": "code",
   "execution_count": 5,
   "metadata": {},
   "outputs": [
    {
     "data": {
      "text/plain": [
       "user_id               0\n",
       "item_id               0\n",
       "recommend             0\n",
       "year                  0\n",
       "sentiment_analysis    0\n",
       "dtype: int64"
      ]
     },
     "execution_count": 5,
     "metadata": {},
     "output_type": "execute_result"
    }
   ],
   "source": [
    "# chequeamos valores nulos\n",
    "user_reviews.isnull().sum()"
   ]
  },
  {
   "cell_type": "markdown",
   "metadata": {},
   "source": [
    "Analisis columna user_id:"
   ]
  },
  {
   "cell_type": "code",
   "execution_count": 6,
   "metadata": {},
   "outputs": [
    {
     "name": "stdout",
     "output_type": "stream",
     "text": [
      "cantidad de usuarios en el dataset: 24203\n"
     ]
    }
   ],
   "source": [
    "# contamos la cantidad de usuarios que tenemos en el dataset\n",
    "cantidad_usuarios=len(user_reviews['user_id'].unique())\n",
    "print(f'cantidad de usuarios en el dataset: {cantidad_usuarios}')"
   ]
  },
  {
   "cell_type": "markdown",
   "metadata": {},
   "source": [
    "Se puede concluir que en la plataforma hay un total de 24,203 de usuarios unicos registrados"
   ]
  },
  {
   "cell_type": "markdown",
   "metadata": {},
   "source": [
    "Analisis columna recommend:"
   ]
  },
  {
   "cell_type": "code",
   "execution_count": 7,
   "metadata": {},
   "outputs": [
    {
     "data": {
      "text/plain": [
       "recommend\n",
       "True     48735\n",
       "False     6578\n",
       "Name: count, dtype: int64"
      ]
     },
     "execution_count": 7,
     "metadata": {},
     "output_type": "execute_result"
    }
   ],
   "source": [
    "# contamos la cantidad de recomnendaciones realizadas\n",
    "user_reviews['recommend'].value_counts()"
   ]
  },
  {
   "cell_type": "code",
   "execution_count": 8,
   "metadata": {},
   "outputs": [
    {
     "data": {
      "image/png": "[encoded data removed]",
      "text/plain": [
       "<Figure size 800x600 with 1 Axes>"
      ]
     },
     "metadata": {},
     "output_type": "display_data"
    }
   ],
   "source": [
    "# visualizamos la columna 'recommend'\n",
    "plt.figure(figsize=(8,6))\n",
    "ax=sns.countplot(x='recommend', data=user_reviews, palette='mako')\n",
    "ax.set(xlabel='recomendacion', ylabel='cantidad', title='recomendaciones de juegos')\n",
    "plt.show()"
   ]
  },
  {
   "cell_type": "markdown",
   "metadata": {},
   "source": [
    "CONCLUSION:\n",
    "\n",
    "Las estadisticas de nuestro analisis revelan que se generaron un total de 48,735 recomendaciones, lo que evidencia un alto nivel de participacion por parte de los usuarios, quienes en promedio realizaron mas de una recomendacion de juego"
   ]
  },
  {
   "cell_type": "markdown",
   "metadata": {},
   "source": [
    "Analisis columna sentiment_analysis:"
   ]
  },
  {
   "cell_type": "code",
   "execution_count": 9,
   "metadata": {},
   "outputs": [
    {
     "data": {
      "text/plain": [
       "sentiment_analysis\n",
       "2    31127\n",
       "0    12381\n",
       "1    11805\n",
       "Name: count, dtype: int64"
      ]
     },
     "execution_count": 9,
     "metadata": {},
     "output_type": "execute_result"
    }
   ],
   "source": [
    "# hacemos el conteo de cada una de las cateogorias de la columna 'sentiment_analysis'\n",
    "user_reviews['sentiment_analysis'].value_counts()"
   ]
  },
  {
   "cell_type": "code",
   "execution_count": 10,
   "metadata": {},
   "outputs": [
    {
     "data": {
      "image/png": "[encoded data removed]",
      "text/plain": [
       "<Figure size 640x480 with 1 Axes>"
      ]
     },
     "metadata": {},
     "output_type": "display_data"
    }
   ],
   "source": [
    "sns.set(style='ticks')\n",
    "ax=sns.countplot(x='sentiment_analysis', data=user_reviews, palette='BuPu')\n",
    "ax.set(xlabel='sentimiento', ylabel='revisiones', title='analisis de sentimiento')\n",
    "plt.show()"
   ]
  },
  {
   "cell_type": "markdown",
   "metadata": {},
   "source": [
    "REPRESENTACIONES DE LOS NUMEROS EN EL ANALISIS DE SENTIMIENTO:\n",
    "\n",
    "2 = positivo\n",
    "\n",
    "0 = negativo\n",
    "\n",
    "1 = neutral\n",
    "\n"
   ]
  },
  {
   "cell_type": "markdown",
   "metadata": {},
   "source": [
    "CONCLUSION:\n",
    "\n",
    "\n",
    "En nuestro analisis pudimos ver que las revisiones positivas fueron las mas numerosas, con un total de 31.127. Las revisiones negativas fueron la segunda categoria más frecuente, con 12.381, seguidas de las revisiones neutrales, con 11.805"
   ]
  },
  {
   "cell_type": "markdown",
   "metadata": {},
   "source": [
    "# steam_games.parquet\n",
    "\n",
    "Abrimos el dataset resultantes despues de haberle aplicado el proceso de ETL para hacerle el proceso de analisis exploratorio"
   ]
  },
  {
   "cell_type": "code",
   "execution_count": 11,
   "metadata": {},
   "outputs": [
    {
     "data": {
      "text/html": [
       "<div>\n",
       "<style scoped>\n",
       "    .dataframe tbody tr th:only-of-type {\n",
       "        vertical-align: middle;\n",
       "    }\n",
       "\n",
       "    .dataframe tbody tr th {\n",
       "        vertical-align: top;\n",
       "    }\n",
       "\n",
       "    .dataframe thead th {\n",
       "        text-align: right;\n",
       "    }\n",
       "</style>\n",
       "<table border=\"1\" class=\"dataframe\">\n",
       "  <thead>\n",
       "    <tr style=\"text-align: right;\">\n",
       "      <th></th>\n",
       "      <th>item_id</th>\n",
       "      <th>app_name</th>\n",
       "      <th>genres</th>\n",
       "      <th>developer</th>\n",
       "      <th>price</th>\n",
       "      <th>release_year</th>\n",
       "    </tr>\n",
       "  </thead>\n",
       "  <tbody>\n",
       "    <tr>\n",
       "      <th>0</th>\n",
       "      <td>761140</td>\n",
       "      <td>Lost Summoner Kitty</td>\n",
       "      <td>Action</td>\n",
       "      <td>Kotoshiro</td>\n",
       "      <td>4.99</td>\n",
       "      <td>2018</td>\n",
       "    </tr>\n",
       "    <tr>\n",
       "      <th>1</th>\n",
       "      <td>761140</td>\n",
       "      <td>Lost Summoner Kitty</td>\n",
       "      <td>Casual</td>\n",
       "      <td>Kotoshiro</td>\n",
       "      <td>4.99</td>\n",
       "      <td>2018</td>\n",
       "    </tr>\n",
       "    <tr>\n",
       "      <th>2</th>\n",
       "      <td>761140</td>\n",
       "      <td>Lost Summoner Kitty</td>\n",
       "      <td>Indie</td>\n",
       "      <td>Kotoshiro</td>\n",
       "      <td>4.99</td>\n",
       "      <td>2018</td>\n",
       "    </tr>\n",
       "    <tr>\n",
       "      <th>3</th>\n",
       "      <td>761140</td>\n",
       "      <td>Lost Summoner Kitty</td>\n",
       "      <td>Simulation</td>\n",
       "      <td>Kotoshiro</td>\n",
       "      <td>4.99</td>\n",
       "      <td>2018</td>\n",
       "    </tr>\n",
       "    <tr>\n",
       "      <th>4</th>\n",
       "      <td>761140</td>\n",
       "      <td>Lost Summoner Kitty</td>\n",
       "      <td>Strategy</td>\n",
       "      <td>Kotoshiro</td>\n",
       "      <td>4.99</td>\n",
       "      <td>2018</td>\n",
       "    </tr>\n",
       "    <tr>\n",
       "      <th>...</th>\n",
       "      <td>...</td>\n",
       "      <td>...</td>\n",
       "      <td>...</td>\n",
       "      <td>...</td>\n",
       "      <td>...</td>\n",
       "      <td>...</td>\n",
       "    </tr>\n",
       "    <tr>\n",
       "      <th>68012</th>\n",
       "      <td>610660</td>\n",
       "      <td>Russian Roads</td>\n",
       "      <td>Indie</td>\n",
       "      <td>Laush Dmitriy Sergeevich</td>\n",
       "      <td>1.99</td>\n",
       "      <td>2018</td>\n",
       "    </tr>\n",
       "    <tr>\n",
       "      <th>68013</th>\n",
       "      <td>610660</td>\n",
       "      <td>Russian Roads</td>\n",
       "      <td>Racing</td>\n",
       "      <td>Laush Dmitriy Sergeevich</td>\n",
       "      <td>1.99</td>\n",
       "      <td>2018</td>\n",
       "    </tr>\n",
       "    <tr>\n",
       "      <th>68014</th>\n",
       "      <td>610660</td>\n",
       "      <td>Russian Roads</td>\n",
       "      <td>Simulation</td>\n",
       "      <td>Laush Dmitriy Sergeevich</td>\n",
       "      <td>1.99</td>\n",
       "      <td>2018</td>\n",
       "    </tr>\n",
       "    <tr>\n",
       "      <th>68015</th>\n",
       "      <td>658870</td>\n",
       "      <td>Exit Directions</td>\n",
       "      <td>Casual</td>\n",
       "      <td>xropi,stev3ns</td>\n",
       "      <td>4.99</td>\n",
       "      <td>2017</td>\n",
       "    </tr>\n",
       "    <tr>\n",
       "      <th>68016</th>\n",
       "      <td>658870</td>\n",
       "      <td>Exit Directions</td>\n",
       "      <td>Indie</td>\n",
       "      <td>xropi,stev3ns</td>\n",
       "      <td>4.99</td>\n",
       "      <td>2017</td>\n",
       "    </tr>\n",
       "  </tbody>\n",
       "</table>\n",
       "<p>68017 rows × 6 columns</p>\n",
       "</div>"
      ],
      "text/plain": [
       "       item_id             app_name      genres                 developer  \\\n",
       "0       761140  Lost Summoner Kitty      Action                 Kotoshiro   \n",
       "1       761140  Lost Summoner Kitty      Casual                 Kotoshiro   \n",
       "2       761140  Lost Summoner Kitty       Indie                 Kotoshiro   \n",
       "3       761140  Lost Summoner Kitty  Simulation                 Kotoshiro   \n",
       "4       761140  Lost Summoner Kitty    Strategy                 Kotoshiro   \n",
       "...        ...                  ...         ...                       ...   \n",
       "68012   610660        Russian Roads       Indie  Laush Dmitriy Sergeevich   \n",
       "68013   610660        Russian Roads      Racing  Laush Dmitriy Sergeevich   \n",
       "68014   610660        Russian Roads  Simulation  Laush Dmitriy Sergeevich   \n",
       "68015   658870      Exit Directions      Casual             xropi,stev3ns   \n",
       "68016   658870      Exit Directions       Indie             xropi,stev3ns   \n",
       "\n",
       "       price  release_year  \n",
       "0       4.99          2018  \n",
       "1       4.99          2018  \n",
       "2       4.99          2018  \n",
       "3       4.99          2018  \n",
       "4       4.99          2018  \n",
       "...      ...           ...  \n",
       "68012   1.99          2018  \n",
       "68013   1.99          2018  \n",
       "68014   1.99          2018  \n",
       "68015   4.99          2017  \n",
       "68016   4.99          2017  \n",
       "\n",
       "[68017 rows x 6 columns]"
      ]
     },
     "execution_count": 11,
     "metadata": {},
     "output_type": "execute_result"
    }
   ],
   "source": [
    "steam_games"
   ]
  },
  {
   "cell_type": "code",
   "execution_count": 12,
   "metadata": {},
   "outputs": [
    {
     "name": "stdout",
     "output_type": "stream",
     "text": [
      "<class 'pandas.core.frame.DataFrame'>\n",
      "RangeIndex: 68017 entries, 0 to 68016\n",
      "Data columns (total 6 columns):\n",
      " #   Column        Non-Null Count  Dtype  \n",
      "---  ------        --------------  -----  \n",
      " 0   item_id       68017 non-null  int32  \n",
      " 1   app_name      68017 non-null  string \n",
      " 2   genres        68017 non-null  object \n",
      " 3   developer     68017 non-null  object \n",
      " 4   price         68017 non-null  float64\n",
      " 5   release_year  68017 non-null  int32  \n",
      "dtypes: float64(1), int32(2), object(2), string(1)\n",
      "memory usage: 2.6+ MB\n"
     ]
    }
   ],
   "source": [
    "# informacion general del dataframe\n",
    "steam_games.info()"
   ]
  },
  {
   "cell_type": "code",
   "execution_count": 13,
   "metadata": {},
   "outputs": [
    {
     "data": {
      "text/plain": [
       "item_id         0\n",
       "app_name        0\n",
       "genres          0\n",
       "developer       0\n",
       "price           0\n",
       "release_year    0\n",
       "dtype: int64"
      ]
     },
     "execution_count": 13,
     "metadata": {},
     "output_type": "execute_result"
    }
   ],
   "source": [
    "# chequeamos valores nulos\n",
    "steam_games.isnull().sum()"
   ]
  },
  {
   "cell_type": "markdown",
   "metadata": {},
   "source": [
    "Analisis columna genres:"
   ]
  },
  {
   "cell_type": "code",
   "execution_count": 14,
   "metadata": {},
   "outputs": [
    {
     "data": {
      "text/plain": [
       "genres\n",
       "Indie                        15081\n",
       "Action                       10638\n",
       "Casual                        8052\n",
       "Adventure                     7781\n",
       "Strategy                      6676\n",
       "Simulation                    6494\n",
       "RPG                           5106\n",
       "Free to Play                  1869\n",
       "Early Access                  1382\n",
       "Sports                        1206\n",
       "Racing                        1048\n",
       "Massively Multiplayer          993\n",
       "Design &amp; Illustration      451\n",
       "Utilities                      319\n",
       "Web Publishing                 259\n",
       "Animation &amp; Modeling       172\n",
       "Education                      122\n",
       "Video Production               103\n",
       "Software Training               99\n",
       "Audio Production                82\n",
       "Photo Editing                   77\n",
       "Accounting                       7\n",
       "Name: count, dtype: int64"
      ]
     },
     "execution_count": 14,
     "metadata": {},
     "output_type": "execute_result"
    }
   ],
   "source": [
    "# analizamos la cantidad de juegos que tiene cada genero en la plataforma\n",
    "steam_games['genres'].value_counts()"
   ]
  },
  {
   "cell_type": "code",
   "execution_count": 15,
   "metadata": {},
   "outputs": [
    {
     "name": "stdout",
     "output_type": "stream",
     "text": [
      "27458\n",
      "68017\n"
     ]
    }
   ],
   "source": [
    "print(len(steam_games['item_id'].unique()))\n",
    "print(steam_games.shape[0])"
   ]
  },
  {
   "cell_type": "code",
   "execution_count": 16,
   "metadata": {},
   "outputs": [
    {
     "data": {
      "image/png": "[encoded data removed]",
      "text/plain": [
       "<Figure size 800x600 with 1 Axes>"
      ]
     },
     "metadata": {},
     "output_type": "display_data"
    }
   ],
   "source": [
    "plt.figure(figsize=(8,6))\n",
    "sns.set(style='darkgrid')\n",
    "ax=sns.countplot(y='genres', data=steam_games, palette='rocket', order=steam_games['genres'].value_counts().index[:10])\n",
    "ax.set(xlabel='cantidad de juegos', ylabel='generos', title='top 10 generos')\n",
    "plt.show()"
   ]
  },
  {
   "cell_type": "markdown",
   "metadata": {},
   "source": [
    "CONCLUSION:\n",
    "\n",
    "En base a los resultados de nuestro analisis concluimos que al observar la frecuencia de los diferentes generos, podemos destacar que Indie, Action, Casual y Adventure son los generos que mas juegos acumulan en la plataforma"
   ]
  },
  {
   "cell_type": "markdown",
   "metadata": {},
   "source": [
    "Analisis columna developer:"
   ]
  },
  {
   "cell_type": "code",
   "execution_count": 17,
   "metadata": {},
   "outputs": [
    {
     "data": {
      "text/plain": [
       "developer\n",
       "Ubisoft - San Francisco                2514\n",
       "SmiteWorks USA, LLC                    2361\n",
       "DL Softworks                            495\n",
       "Ronimo Games                            379\n",
       "Paradox Development Studio              304\n",
       "                                       ... \n",
       "Vicious Cycle Software, Inc.              1\n",
       "Lucid Games,Aspyr (Mac &amp; Linux)       1\n",
       "Xoron GmbH                                1\n",
       "KrossRails,Dovetail Games                 1\n",
       "Katatema,Watson                           1\n",
       "Name: count, Length: 10603, dtype: int64"
      ]
     },
     "execution_count": 17,
     "metadata": {},
     "output_type": "execute_result"
    }
   ],
   "source": [
    "steam_games['developer'].value_counts()\n"
   ]
  },
  {
   "cell_type": "code",
   "execution_count": 18,
   "metadata": {},
   "outputs": [
    {
     "data": {
      "image/png": "[encoded data removed]",
      "text/plain": [
       "<Figure size 800x600 with 1 Axes>"
      ]
     },
     "metadata": {},
     "output_type": "display_data"
    }
   ],
   "source": [
    "plt.figure(figsize=(8,6))\n",
    "ax=sns.countplot(y='developer', data=steam_games, order=steam_games['developer'].value_counts().index[:10])\n",
    "ax.set(xlabel='cantidad de juegos', ylabel='desarolladores', title='top 10 desarrolladores')\n",
    "plt.show()"
   ]
  },
  {
   "cell_type": "markdown",
   "metadata": {},
   "source": [
    "CONCLUSION:\n",
    "\n",
    "Por medio de nuestro analisis concluimos que Ubisoft y SmiteWorks se destacan como los principales desarrolladores, con una cantidad de juegos mucho mayor que la de los otros desarrolladores de la plataforma"
   ]
  },
  {
   "cell_type": "markdown",
   "metadata": {},
   "source": [
    "Analisis columna item_id"
   ]
  },
  {
   "cell_type": "code",
   "execution_count": 19,
   "metadata": {},
   "outputs": [
    {
     "name": "stdout",
     "output_type": "stream",
     "text": [
      "cantidad juegos: 27458\n"
     ]
    }
   ],
   "source": [
    "cantidad_juegos_steam= len(steam_games['item_id'].unique())\n",
    "print(f'cantidad juegos: {cantidad_juegos_steam}')"
   ]
  },
  {
   "cell_type": "markdown",
   "metadata": {},
   "source": [
    "CONCLUSION:\n",
    "\n",
    "La plataforma steam ofrece una gran variedad de juegos (item_id), con un total de 27,459 juegos disponibles para los usuarios"
   ]
  },
  {
   "cell_type": "markdown",
   "metadata": {},
   "source": [
    "Analisis release_year"
   ]
  },
  {
   "cell_type": "code",
   "execution_count": 20,
   "metadata": {},
   "outputs": [
    {
     "data": {
      "text/plain": [
       "release_year\n",
       "2017    24597\n",
       "2016    17289\n",
       "2015    11319\n",
       "2014     5805\n",
       "2013     2832\n",
       "2012     2024\n",
       "2011      949\n",
       "2010      657\n",
       "2009      475\n",
       "2008      320\n",
       "2007      254\n",
       "2018      235\n",
       "2006      212\n",
       "2005      128\n",
       "2003      117\n",
       "2001       97\n",
       "2004       90\n",
       "1998       72\n",
       "1999       71\n",
       "1997       64\n",
       "2002       60\n",
       "1996       56\n",
       "2000       54\n",
       "1994       51\n",
       "1995       48\n",
       "1993       39\n",
       "1992       24\n",
       "1991       19\n",
       "1989       11\n",
       "1990       11\n",
       "1988        9\n",
       "2019        6\n",
       "1986        5\n",
       "1984        5\n",
       "1987        5\n",
       "2021        3\n",
       "1983        3\n",
       "1985        1\n",
       "Name: count, dtype: int64"
      ]
     },
     "execution_count": 20,
     "metadata": {},
     "output_type": "execute_result"
    }
   ],
   "source": [
    "# contamos los diferentes juegos estrenados por año\n",
    "steam_games['release_year'].value_counts()"
   ]
  },
  {
   "cell_type": "code",
   "execution_count": 21,
   "metadata": {},
   "outputs": [
    {
     "data": {
      "image/png": "[encoded data removed]",
      "text/plain": [
       "<Figure size 800x600 with 1 Axes>"
      ]
     },
     "metadata": {},
     "output_type": "display_data"
    }
   ],
   "source": [
    "anios_lanzamiento=steam_games['release_year'].value_counts()[:10]\n",
    "cantidad_juegos=anios_lanzamiento.index\n",
    "\n",
    "plt.figure(figsize=(8,6))\n",
    "sns.pointplot(x=cantidad_juegos, y=anios_lanzamiento, linestyles='-')\n",
    "plt.xlabel('año')\n",
    "plt.ylabel('cantidad de juegos')\n",
    "plt.title('top 10 años con mayor cantidad de juegos lanzados')\n",
    "plt.show()\n"
   ]
  },
  {
   "cell_type": "markdown",
   "metadata": {},
   "source": [
    "CONCLUSION:\n",
    "\n",
    "Al analizar los 10 años con mayor cantidad de lanzamientos en la plataforma Steam, se observa una concentracion de lanzamientos entre los años 2008 al 2011, evidenciando un notable ascenso hasta llegar a un pico en el año 2017, lo que nos lleva a la conclusion de que el 2017 fue el año con la mayor cantidad de juegos lanzados"
   ]
  },
  {
   "cell_type": "markdown",
   "metadata": {},
   "source": [
    "analisis columna price"
   ]
  },
  {
   "cell_type": "code",
   "execution_count": 22,
   "metadata": {},
   "outputs": [
    {
     "data": {
      "text/plain": [
       "price\n",
       "4.99     9404\n",
       "9.99     8656\n",
       "2.99     7543\n",
       "0.99     6136\n",
       "1.99     5603\n",
       "         ... \n",
       "14.95       1\n",
       "42.99       1\n",
       "26.99       1\n",
       "99.00       1\n",
       "27.49       1\n",
       "Name: count, Length: 135, dtype: int64"
      ]
     },
     "execution_count": 22,
     "metadata": {},
     "output_type": "execute_result"
    }
   ],
   "source": [
    "# conteo de valores en la columna 'price'\n",
    "steam_games['price'].value_counts()"
   ]
  },
  {
   "cell_type": "code",
   "execution_count": 23,
   "metadata": {},
   "outputs": [
    {
     "data": {
      "text/plain": [
       "count    68017.000000\n",
       "mean         8.844288\n",
       "std         16.046619\n",
       "min          0.000000\n",
       "25%          2.990000\n",
       "50%          4.990000\n",
       "75%          9.990000\n",
       "max        995.000000\n",
       "Name: price, dtype: float64"
      ]
     },
     "execution_count": 23,
     "metadata": {},
     "output_type": "execute_result"
    }
   ],
   "source": [
    "# chequeamos informacion estadistica de la columna 'price'\n",
    "steam_games['price'].describe()"
   ]
  },
  {
   "cell_type": "code",
   "execution_count": 24,
   "metadata": {},
   "outputs": [
    {
     "data": {
      "image/png": "[encoded data removed]",
      "text/plain": [
       "<Figure size 800x600 with 1 Axes>"
      ]
     },
     "metadata": {},
     "output_type": "display_data"
    }
   ],
   "source": [
    "plt.figure(figsize=(8,6))\n",
    "sns.boxplot(steam_games['price'])\n",
    "plt.title('Boxplot Price')\n",
    "plt.show()"
   ]
  },
  {
   "cell_type": "markdown",
   "metadata": {},
   "source": [
    "CONCLUSION:\n",
    "\n",
    "en nuestro analisis pudimos ver que los precios de los juegos en la plataforma van desde los gratuitos hasta a 995$, con un precio promedio de 8$ lo que nos muestra una tendencia hacia precios mas economicos, pero tambien una cantidad considerables de juegos con precios mucho mas altos, lo que genera un sesgo en la distribucion de los precios"
   ]
  },
  {
   "cell_type": "markdown",
   "metadata": {},
   "source": [
    "# user_items.parquet\n",
    "\n",
    "Abrimos el dataset resultantes despues de haberle aplicado el proceso de ETL para hacerle el proceso de analisis exploratorio"
   ]
  },
  {
   "cell_type": "code",
   "execution_count": 25,
   "metadata": {},
   "outputs": [
    {
     "data": {
      "text/html": [
       "<div>\n",
       "<style scoped>\n",
       "    .dataframe tbody tr th:only-of-type {\n",
       "        vertical-align: middle;\n",
       "    }\n",
       "\n",
       "    .dataframe tbody tr th {\n",
       "        vertical-align: top;\n",
       "    }\n",
       "\n",
       "    .dataframe thead th {\n",
       "        text-align: right;\n",
       "    }\n",
       "</style>\n",
       "<table border=\"1\" class=\"dataframe\">\n",
       "  <thead>\n",
       "    <tr style=\"text-align: right;\">\n",
       "      <th></th>\n",
       "      <th>item_id</th>\n",
       "      <th>item_name</th>\n",
       "      <th>playtime_forever</th>\n",
       "      <th>user_id</th>\n",
       "      <th>items_count</th>\n",
       "    </tr>\n",
       "  </thead>\n",
       "  <tbody>\n",
       "    <tr>\n",
       "      <th>0</th>\n",
       "      <td>10</td>\n",
       "      <td>Counter-Strike</td>\n",
       "      <td>6.0</td>\n",
       "      <td>76561197970982479</td>\n",
       "      <td>277</td>\n",
       "    </tr>\n",
       "    <tr>\n",
       "      <th>1</th>\n",
       "      <td>30</td>\n",
       "      <td>Day of Defeat</td>\n",
       "      <td>7.0</td>\n",
       "      <td>evcentric</td>\n",
       "      <td>137</td>\n",
       "    </tr>\n",
       "    <tr>\n",
       "      <th>2</th>\n",
       "      <td>300</td>\n",
       "      <td>Day of Defeat: Source</td>\n",
       "      <td>4733.0</td>\n",
       "      <td>maplemage</td>\n",
       "      <td>629</td>\n",
       "    </tr>\n",
       "    <tr>\n",
       "      <th>3</th>\n",
       "      <td>3830</td>\n",
       "      <td>Psychonauts</td>\n",
       "      <td>333.0</td>\n",
       "      <td>corrupted_soul</td>\n",
       "      <td>115</td>\n",
       "    </tr>\n",
       "    <tr>\n",
       "      <th>4</th>\n",
       "      <td>3900</td>\n",
       "      <td>Sid Meier's Civilization IV</td>\n",
       "      <td>338.0</td>\n",
       "      <td>jorellpogi</td>\n",
       "      <td>71</td>\n",
       "    </tr>\n",
       "    <tr>\n",
       "      <th>...</th>\n",
       "      <td>...</td>\n",
       "      <td>...</td>\n",
       "      <td>...</td>\n",
       "      <td>...</td>\n",
       "      <td>...</td>\n",
       "    </tr>\n",
       "    <tr>\n",
       "      <th>48323</th>\n",
       "      <td>213650</td>\n",
       "      <td>Dwarfs F2P</td>\n",
       "      <td>62.0</td>\n",
       "      <td>76561198320136420</td>\n",
       "      <td>321</td>\n",
       "    </tr>\n",
       "    <tr>\n",
       "      <th>48324</th>\n",
       "      <td>219340</td>\n",
       "      <td>The Banner Saga: Factions</td>\n",
       "      <td>11.0</td>\n",
       "      <td>ArkPlays7</td>\n",
       "      <td>4</td>\n",
       "    </tr>\n",
       "    <tr>\n",
       "      <th>48325</th>\n",
       "      <td>202090</td>\n",
       "      <td>Magicka: Wizard Wars</td>\n",
       "      <td>1501.0</td>\n",
       "      <td>76561198323066619</td>\n",
       "      <td>22</td>\n",
       "    </tr>\n",
       "    <tr>\n",
       "      <th>48326</th>\n",
       "      <td>239220</td>\n",
       "      <td>The Mighty Quest For Epic Loot</td>\n",
       "      <td>2374.0</td>\n",
       "      <td>76561198326700687</td>\n",
       "      <td>177</td>\n",
       "    </tr>\n",
       "    <tr>\n",
       "      <th>48327</th>\n",
       "      <td>227220</td>\n",
       "      <td>Sang-Froid - Tales of Werewolves</td>\n",
       "      <td>2973.0</td>\n",
       "      <td>76561198329548331</td>\n",
       "      <td>7</td>\n",
       "    </tr>\n",
       "  </tbody>\n",
       "</table>\n",
       "<p>48328 rows × 5 columns</p>\n",
       "</div>"
      ],
      "text/plain": [
       "       item_id                         item_name  playtime_forever  \\\n",
       "0           10                    Counter-Strike               6.0   \n",
       "1           30                     Day of Defeat               7.0   \n",
       "2          300             Day of Defeat: Source            4733.0   \n",
       "3         3830                       Psychonauts             333.0   \n",
       "4         3900       Sid Meier's Civilization IV             338.0   \n",
       "...        ...                               ...               ...   \n",
       "48323   213650                        Dwarfs F2P              62.0   \n",
       "48324   219340         The Banner Saga: Factions              11.0   \n",
       "48325   202090              Magicka: Wizard Wars            1501.0   \n",
       "48326   239220    The Mighty Quest For Epic Loot            2374.0   \n",
       "48327   227220  Sang-Froid - Tales of Werewolves            2973.0   \n",
       "\n",
       "                 user_id  items_count  \n",
       "0      76561197970982479          277  \n",
       "1              evcentric          137  \n",
       "2              maplemage          629  \n",
       "3         corrupted_soul          115  \n",
       "4             jorellpogi           71  \n",
       "...                  ...          ...  \n",
       "48323  76561198320136420          321  \n",
       "48324          ArkPlays7            4  \n",
       "48325  76561198323066619           22  \n",
       "48326  76561198326700687          177  \n",
       "48327  76561198329548331            7  \n",
       "\n",
       "[48328 rows x 5 columns]"
      ]
     },
     "execution_count": 25,
     "metadata": {},
     "output_type": "execute_result"
    }
   ],
   "source": [
    "user_items"
   ]
  },
  {
   "cell_type": "code",
   "execution_count": 26,
   "metadata": {},
   "outputs": [
    {
     "name": "stdout",
     "output_type": "stream",
     "text": [
      "<class 'pandas.core.frame.DataFrame'>\n",
      "RangeIndex: 48328 entries, 0 to 48327\n",
      "Data columns (total 5 columns):\n",
      " #   Column            Non-Null Count  Dtype  \n",
      "---  ------            --------------  -----  \n",
      " 0   item_id           48328 non-null  int32  \n",
      " 1   item_name         48328 non-null  object \n",
      " 2   playtime_forever  48328 non-null  float64\n",
      " 3   user_id           48328 non-null  object \n",
      " 4   items_count       48328 non-null  int32  \n",
      "dtypes: float64(1), int32(2), object(2)\n",
      "memory usage: 1.5+ MB\n"
     ]
    }
   ],
   "source": [
    "# informacion general dataframe\n",
    "user_items.info()"
   ]
  },
  {
   "cell_type": "code",
   "execution_count": 27,
   "metadata": {},
   "outputs": [
    {
     "data": {
      "text/plain": [
       "item_id             0\n",
       "item_name           0\n",
       "playtime_forever    0\n",
       "user_id             0\n",
       "items_count         0\n",
       "dtype: int64"
      ]
     },
     "execution_count": 27,
     "metadata": {},
     "output_type": "execute_result"
    }
   ],
   "source": [
    "# chequeo de valores nulos\n",
    "user_items.isnull().sum()"
   ]
  },
  {
   "cell_type": "markdown",
   "metadata": {},
   "source": [
    "analisis columna playtime_forever"
   ]
  },
  {
   "cell_type": "code",
   "execution_count": 28,
   "metadata": {},
   "outputs": [
    {
     "data": {
      "text/plain": [
       "0           6.0\n",
       "1           7.0\n",
       "2        4733.0\n",
       "3         333.0\n",
       "4         338.0\n",
       "          ...  \n",
       "48323      62.0\n",
       "48324      11.0\n",
       "48325    1501.0\n",
       "48326    2374.0\n",
       "48327    2973.0\n",
       "Name: playtime_forever, Length: 48328, dtype: float64"
      ]
     },
     "execution_count": 28,
     "metadata": {},
     "output_type": "execute_result"
    }
   ],
   "source": [
    "user_items['playtime_forever']"
   ]
  },
  {
   "cell_type": "code",
   "execution_count": 29,
   "metadata": {},
   "outputs": [],
   "source": [
    "# hacemos una agrupacion de usuarios por tiempo jugado , almacenandolo en un dataframe para posteriormente graficarlo\n",
    "contador_horas_jugadas= user_items.groupby('user_id')['playtime_forever'].unique().explode()\n",
    "contador_horas_jugadas= pd.DataFrame(contador_horas_jugadas)\n",
    "contador_horas_jugadas_filtrado= contador_horas_jugadas.sort_values('playtime_forever', ascending=False)\n"
   ]
  },
  {
   "cell_type": "code",
   "execution_count": 31,
   "metadata": {},
   "outputs": [
    {
     "data": {
      "image/png": "[encoded data removed]",
      "text/plain": [
       "<Figure size 2000x500 with 1 Axes>"
      ]
     },
     "metadata": {},
     "output_type": "display_data"
    }
   ],
   "source": [
    "plt.figure(figsize=(20,5))\n",
    "ax=sns.stripplot(data=contador_horas_jugadas, x='playtime_forever', color=\"blue\")\n",
    "ax.set(xlabel='playtime_forever', title='Cantidad de tiempo por usuarios')\n",
    "plt.show()\n"
   ]
  },
  {
   "cell_type": "code",
   "execution_count": 32,
   "metadata": {},
   "outputs": [
    {
     "data": {
      "text/html": [
       "<div>\n",
       "<style scoped>\n",
       "    .dataframe tbody tr th:only-of-type {\n",
       "        vertical-align: middle;\n",
       "    }\n",
       "\n",
       "    .dataframe tbody tr th {\n",
       "        vertical-align: top;\n",
       "    }\n",
       "\n",
       "    .dataframe thead th {\n",
       "        text-align: right;\n",
       "    }\n",
       "</style>\n",
       "<table border=\"1\" class=\"dataframe\">\n",
       "  <thead>\n",
       "    <tr style=\"text-align: right;\">\n",
       "      <th></th>\n",
       "      <th>playtime_forever</th>\n",
       "    </tr>\n",
       "  </thead>\n",
       "  <tbody>\n",
       "    <tr>\n",
       "      <th>count</th>\n",
       "      <td>48327.0</td>\n",
       "    </tr>\n",
       "    <tr>\n",
       "      <th>unique</th>\n",
       "      <td>7166.0</td>\n",
       "    </tr>\n",
       "    <tr>\n",
       "      <th>top</th>\n",
       "      <td>1.0</td>\n",
       "    </tr>\n",
       "    <tr>\n",
       "      <th>freq</th>\n",
       "      <td>1534.0</td>\n",
       "    </tr>\n",
       "  </tbody>\n",
       "</table>\n",
       "</div>"
      ],
      "text/plain": [
       "        playtime_forever\n",
       "count            48327.0\n",
       "unique            7166.0\n",
       "top                  1.0\n",
       "freq              1534.0"
      ]
     },
     "execution_count": 32,
     "metadata": {},
     "output_type": "execute_result"
    }
   ],
   "source": [
    "contador_horas_jugadas.describe()"
   ]
  },
  {
   "cell_type": "markdown",
   "metadata": {},
   "source": [
    "CONCLUSION:\n",
    "\n",
    "Podemos concluir en nuestro analisis que el tiempo total jugado entre todos los usuarios de la plataforma es de 48,327 minutos, lo que equivale a 805 horas y 47 minutos, tambien pudimos observar que el valor mas repedito (7,166) es 1, lo que nos lleva a concluir que una hora ha sido el tiempo de juego mas popular entre los usuarios\n",
    "\n"
   ]
  }
 ],
 "metadata": {
  "kernelspec": {
   "display_name": "Python 3",
   "language": "python",
   "name": "python3"
  },
  "language_info": {
   "codemirror_mode": {
    "name": "ipython",
    "version": 3
   },
   "file_extension": ".py",
   "mimetype": "text/x-python",
   "name": "python",
   "nbconvert_exporter": "python",
   "pygments_lexer": "ipython3",
   "version": "3.11.3"
  }
 },
 "nbformat": 4,
 "nbformat_minor": 2
}
