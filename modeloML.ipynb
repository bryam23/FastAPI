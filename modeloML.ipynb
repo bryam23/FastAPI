{
 "cells": [
  {
   "cell_type": "markdown",
   "metadata": {},
   "source": [
    "# Modelo de Machine Learning (Similitud de Coseno)"
   ]
  },
  {
   "cell_type": "code",
   "execution_count": 1,
   "metadata": {},
   "outputs": [],
   "source": [
    "import pandas as pd \n",
    "import numpy as np \n",
    "\n",
    "import scipy as sp \n",
    "from sklearn.metrics.pairwise import cosine_similarity\n",
    "import operator\n",
    "\n",
    "import fastparquet as fp \n",
    "import pyarrow as pa \n",
    "import pyarrow.parquet as pq"
   ]
  },
  {
   "cell_type": "code",
   "execution_count": null,
   "metadata": {},
   "outputs": [],
   "source": [
    "# cargamos los archivos parquet\n",
    "funcion1=pd.read_parquet('data/developer.parquet')\n",
    "funcion2=pd.read_csv('data/userdata.parquet', encoding='utf-8')\n",
    "funcion3=pd.read_csv('data/UserForGenre.parquet', encoding='utf-8')\n",
    "funcion4=pd.read_csv('data/best_developer_year.parquet', encoding='utf-8')\n",
    "funcion5=pd.read_csv('data/developer_reviews_analysis.parquet', encoding='utf-8')"
   ]
  }
 ],
 "metadata": {
  "kernelspec": {
   "display_name": "Python 3",
   "language": "python",
   "name": "python3"
  },
  "language_info": {
   "codemirror_mode": {
    "name": "ipython",
    "version": 3
   },
   "file_extension": ".py",
   "mimetype": "text/x-python",
   "name": "python",
   "nbconvert_exporter": "python",
   "pygments_lexer": "ipython3",
   "version": "3.11.3"
  }
 },
 "nbformat": 4,
 "nbformat_minor": 2
}
