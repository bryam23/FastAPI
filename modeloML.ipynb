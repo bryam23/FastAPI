{
 "cells": [
  {
   "cell_type": "markdown",
   "metadata": {},
   "source": [
    "# Modelo de Machine Learning (Similitud de Coseno)\n",
    "\n",
    "la propuesta para el sistema de recomendacion es aplicar un modelo que debera tener una relacion item-item, se toma un item en base a que tan similar esta ese item al resto, se recomiendan similares. el input aqui es un juego y el output es una lista de juegos recomendados, para ello recomendamos aplicar la similitud de coseno"
   ]
  },
  {
   "cell_type": "code",
   "execution_count": 20,
   "metadata": {},
   "outputs": [],
   "source": [
    "# importamos librerias\n",
    "import pandas as pd "
   ]
  },
  {
   "cell_type": "code",
   "execution_count": 21,
   "metadata": {},
   "outputs": [],
   "source": [
    "# del dataframe steam_games extraemos solamente las columnas que vamos a necesitar\n",
    "#steam_games= pd.read_parquet('data/clean_steam_games.parquet')\n",
    "#modelo=steam_games[['item_id', 'app_name', 'genres']]\n",
    "#modelo.head()"
   ]
  },
  {
   "cell_type": "code",
   "execution_count": 22,
   "metadata": {},
   "outputs": [],
   "source": [
    "#modelo.info()"
   ]
  },
  {
   "cell_type": "code",
   "execution_count": 23,
   "metadata": {},
   "outputs": [],
   "source": [
    "# procedemos a crear los dummies\n",
    "#modelo= pd.get_dummies(modelo, columns=['genres'], prefix='')\n",
    "#modelo= modelo.groupby(['item_id', 'app_name']).sum().reset_index()"
   ]
  },
  {
   "cell_type": "code",
   "execution_count": 24,
   "metadata": {},
   "outputs": [],
   "source": [
    "#modelo.head()"
   ]
  }
 ],
 "metadata": {
  "kernelspec": {
   "display_name": "Python 3",
   "language": "python",
   "name": "python3"
  },
  "language_info": {
   "codemirror_mode": {
    "name": "ipython",
    "version": 3
   },
   "file_extension": ".py",
   "mimetype": "text/x-python",
   "name": "python",
   "nbconvert_exporter": "python",
   "pygments_lexer": "ipython3",
   "version": "3.11.3"
  }
 },
 "nbformat": 4,
 "nbformat_minor": 2
}
